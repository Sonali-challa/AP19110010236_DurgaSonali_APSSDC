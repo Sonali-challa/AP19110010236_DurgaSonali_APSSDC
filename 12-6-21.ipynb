{
 "cells": [
  {
   "cell_type": "markdown",
   "id": "b7860496",
   "metadata": {},
   "source": [
    "# Today Tasks :\n",
    "- Write a Python script to print a dictionary where the keys are numbers between 1 and 15 (both included) and the values are square of keys\n",
    "- Write a Python program to map two lists into a dictionary\n",
    "- Write a Python program to sort a list alphabetically in a dictionary\n",
    "    - input : {'n1': [2, 3, 1], 'n2': [5, 1, 2], 'n3': [3, 2, 4]}\n",
    "    - output : {'n1': [1, 2, 3], 'n2': [1, 2, 5], 'n3': [2, 3, 4]}"
   ]
  },
  {
   "cell_type": "code",
   "execution_count": 1,
   "id": "fbafcaa8",
   "metadata": {},
   "outputs": [
    {
     "name": "stdout",
     "output_type": "stream",
     "text": [
      "{1: 1, 2: 4, 3: 9, 4: 16, 5: 25, 6: 36, 7: 49, 8: 64, 9: 81, 10: 100, 11: 121, 12: 144, 13: 169, 14: 196, 15: 225}\n"
     ]
    }
   ],
   "source": [
    "'''Write a Python script to print a dictionary where the keys are numbers between \n",
    " 1 and 15 (both included) and the values are square of keys'''\n",
    "keys=dict()\n",
    "for values in range(1,16):\n",
    "    keys[values]=values**2\n",
    "print(keys)"
   ]
  },
  {
   "cell_type": "code",
   "execution_count": 2,
   "id": "6f127335",
   "metadata": {},
   "outputs": [
    {
     "name": "stdout",
     "output_type": "stream",
     "text": [
      "Dictionary formed is: {'medical': '99000', 'grocery': '70000', 'vegetable': '65000', 'books store': '88000'}\n"
     ]
    }
   ],
   "source": [
    "#Write a Python program to map two lists into a dictionary\n",
    "shop = ['medical', 'grocery', 'vegetable', 'books store']\n",
    "income = ['99000', '70000', '65000', '88000']\n",
    "dictionary = dict(zip(shop, income))\n",
    "print(\"Dictionary formed is:\",dictionary)"
   ]
  },
  {
   "cell_type": "code",
   "execution_count": 3,
   "id": "e4b3eeb5",
   "metadata": {},
   "outputs": [
    {
     "name": "stdout",
     "output_type": "stream",
     "text": [
      "{'n1': [1, 2, 3], 'n2': [1, 2, 5], 'n3': [2, 3, 4]}\n"
     ]
    }
   ],
   "source": [
    "'''- Write a Python program to sort a list alphabetically in a dictionary\n",
    "     - input : {'n1': [2, 3, 1], 'n2': [5, 1, 2], 'n3': [3, 2, 4]}\n",
    "     - output : {'n1': [1, 2, 3], 'n2': [1, 2, 5], 'n3': [2, 3, 4]}'''\n",
    "\n",
    "n = {'n1': [2, 3, 1], 'n2': [5, 1, 2], 'n3': [3, 2, 4]}\n",
    "sorted_dict = {keys: sorted(values) for keys, values in n.items()}\n",
    "print(sorted_dict)"
   ]
  }
 ],
 "metadata": {
  "kernelspec": {
   "display_name": "Python 3",
   "language": "python",
   "name": "python3"
  },
  "language_info": {
   "codemirror_mode": {
    "name": "ipython",
    "version": 3
   },
   "file_extension": ".py",
   "mimetype": "text/x-python",
   "name": "python",
   "nbconvert_exporter": "python",
   "pygments_lexer": "ipython3",
   "version": "3.8.8"
  }
 },
 "nbformat": 4,
 "nbformat_minor": 5
}
