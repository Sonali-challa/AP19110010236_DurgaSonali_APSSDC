{
 "cells": [
  {
   "cell_type": "markdown",
   "id": "852c9143",
   "metadata": {},
   "source": [
    "# Task:\n",
    "- Generate 3 digit otp from 2 different classes(mail class and phone class)\n",
    "- return 6 digits otp from both baseclasses(super classes)"
   ]
  },
  {
   "cell_type": "code",
   "execution_count": 1,
   "id": "17880484",
   "metadata": {},
   "outputs": [],
   "source": [
    "import random"
   ]
  },
  {
   "cell_type": "code",
   "execution_count": 2,
   "id": "b8b11648",
   "metadata": {},
   "outputs": [],
   "source": [
    "class MailClass():\n",
    "    def __init__(self):\n",
    "        self.OTP1 = random.randint(000,999)\n",
    "        print(\"3-digit OTP is: \",self.OTP1)\n",
    "class PhoneClass():\n",
    "    def __init__(self):\n",
    "        self.OTP2 = random.randint(000,999)\n",
    "        print(\"3-digit OTP is: \", self.OTP2)\n",
    "class BaseClass():\n",
    "    def __init__(self):\n",
    "        MailClass.__init__(self)\n",
    "        PhoneClass.__init__(self)\n",
    "        print(\"6-digit OTP is: \",(str(self.OTP1)+str(self.OTP2)))"
   ]
  },
  {
   "cell_type": "code",
   "execution_count": 3,
   "id": "da90f9e3",
   "metadata": {},
   "outputs": [
    {
     "name": "stdout",
     "output_type": "stream",
     "text": [
      "3-digit OTP is:  347\n"
     ]
    }
   ],
   "source": [
    "otp_1 = MailClass()"
   ]
  },
  {
   "cell_type": "code",
   "execution_count": 4,
   "id": "5b663309",
   "metadata": {},
   "outputs": [
    {
     "name": "stdout",
     "output_type": "stream",
     "text": [
      "3-digit OTP is:  186\n"
     ]
    }
   ],
   "source": [
    "otp_2 = PhoneClass()"
   ]
  },
  {
   "cell_type": "code",
   "execution_count": 5,
   "id": "6f898350",
   "metadata": {},
   "outputs": [
    {
     "name": "stdout",
     "output_type": "stream",
     "text": [
      "3-digit OTP is:  688\n",
      "3-digit OTP is:  59\n",
      "6-digit OTP is:  68859\n"
     ]
    }
   ],
   "source": [
    "otp_3 = BaseClass()"
   ]
  }
 ],
 "metadata": {
  "kernelspec": {
   "display_name": "Python 3",
   "language": "python",
   "name": "python3"
  },
  "language_info": {
   "codemirror_mode": {
    "name": "ipython",
    "version": 3
   },
   "file_extension": ".py",
   "mimetype": "text/x-python",
   "name": "python",
   "nbconvert_exporter": "python",
   "pygments_lexer": "ipython3",
   "version": "3.8.8"
  }
 },
 "nbformat": 4,
 "nbformat_minor": 5
}
