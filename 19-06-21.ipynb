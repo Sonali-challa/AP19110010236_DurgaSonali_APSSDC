{
 "cells": [
  {
   "cell_type": "markdown",
   "id": "77758ac9",
   "metadata": {},
   "source": [
    "# Task\n",
    "- Take a list of years between 1800 to 2030\n",
    "- Display all the leap year which is divisible by 5"
   ]
  },
  {
   "cell_type": "code",
   "execution_count": 1,
   "id": "2be601ac",
   "metadata": {},
   "outputs": [
    {
     "name": "stdout",
     "output_type": "stream",
     "text": [
      "Leap years divisible by 5 from given range are: \n",
      "1820\n",
      "1840\n",
      "1860\n",
      "1880\n",
      "1920\n",
      "1940\n",
      "1960\n",
      "1980\n",
      "2000\n",
      "2020\n"
     ]
    }
   ],
   "source": [
    "# python code without comprehensions \n",
    "print(\"Leap years divisible by 5 from given range are: \")\n",
    "for year in range(1800,2030):\n",
    "    if(year % 4 == 0) and (year % 5 == 0) and (year % 100 != 0) or (year % 400 == 0):\n",
    "        print(year)"
   ]
  },
  {
   "cell_type": "code",
   "execution_count": 3,
   "id": "303a95b3",
   "metadata": {},
   "outputs": [
    {
     "name": "stdout",
     "output_type": "stream",
     "text": [
      "[1820, 1840, 1860, 1880, 1920, 1940, 1960, 1980, 2000, 2020]\n"
     ]
    }
   ],
   "source": [
    "# using comprehensions\n",
    "print([year for year in range(1800,2030) \n",
    "       if (((year % 4 == 0) and (year % 5 == 0) and (year % 100 != 0)) or (year % 400 == 0))])"
   ]
  }
 ],
 "metadata": {
  "kernelspec": {
   "display_name": "Python 3",
   "language": "python",
   "name": "python3"
  },
  "language_info": {
   "codemirror_mode": {
    "name": "ipython",
    "version": 3
   },
   "file_extension": ".py",
   "mimetype": "text/x-python",
   "name": "python",
   "nbconvert_exporter": "python",
   "pygments_lexer": "ipython3",
   "version": "3.8.8"
  }
 },
 "nbformat": 4,
 "nbformat_minor": 5
}
