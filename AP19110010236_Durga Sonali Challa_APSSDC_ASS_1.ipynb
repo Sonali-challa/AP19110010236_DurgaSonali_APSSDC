{
 "cells": [
  {
   "cell_type": "markdown",
   "id": "29644f5f",
   "metadata": {},
   "source": [
    "## Day 2\n",
    "**Task:**\n",
    "\n",
    "Write a program to check wheather the user eligible for vote or not\n",
    "Check the given number is positive or negative\n",
    "check the given number is even or odd if it's even check which is divisible by 4 or not\n",
    "write a program to print student grade based on persentage like Distinction,pass or fail\n",
    "Check the given year is Leap or not\n"
   ]
  },
  {
   "cell_type": "markdown",
   "id": "cb797bd2",
   "metadata": {},
   "source": [
    "### 1 Write a program to check wheather the user eligible for vote or not\n"
   ]
  },
  {
   "cell_type": "code",
   "execution_count": 1,
   "id": "6b628320",
   "metadata": {},
   "outputs": [
    {
     "name": "stdout",
     "output_type": "stream",
     "text": [
      "Enter your Age: 18\n",
      "You are eligible to vote\n"
     ]
    }
   ],
   "source": [
    "a = int(input(\"Enter your Age: \"))\n",
    "if a>=18:\n",
    "    print(\"You are eligible to vote\")\n",
    "else:\n",
    "    print(\"You are NOT eligible to vote\")"
   ]
  },
  {
   "cell_type": "markdown",
   "id": "f3526b6d",
   "metadata": {},
   "source": [
    "### 2 Write a program to check the given number is positive or negative"
   ]
  },
  {
   "cell_type": "code",
   "execution_count": 2,
   "id": "194761fa",
   "metadata": {},
   "outputs": [
    {
     "name": "stdout",
     "output_type": "stream",
     "text": [
      "Enter a Number: 6\n",
      "The given number is Positive Number\n"
     ]
    }
   ],
   "source": [
    "a = int(input('Enter a Number: '))\n",
    "if a >=0:\n",
    "    print('The given number is Positive Number')\n",
    "else:\n",
    "    print('The given number is Negative Number')"
   ]
  },
  {
   "cell_type": "markdown",
   "id": "64e73356",
   "metadata": {},
   "source": [
    "### 3 Write a program to check the given number is even or odd if it's even check which is divisible by 4 or not"
   ]
  },
  {
   "cell_type": "code",
   "execution_count": 3,
   "id": "301210f1",
   "metadata": {},
   "outputs": [
    {
     "name": "stdout",
     "output_type": "stream",
     "text": [
      "Enter a Number: 64\n",
      "The given number is an Even Number\n",
      "The given number is divisible by 4\n"
     ]
    }
   ],
   "source": [
    "a = int(input('Enter a Number: '))\n",
    "if a % 2==0:\n",
    "    print('The given number is an Even Number')\n",
    "    if a % 4==0:\n",
    "        print('The given number is divisible by 4')\n",
    "    else:\n",
    "        print('The given number is not divisible by 4')\n",
    "else:\n",
    "    print('The given number is a Odd Number')"
   ]
  },
  {
   "cell_type": "markdown",
   "id": "0d06f7ce",
   "metadata": {},
   "source": [
    "### 4 Write a program to print student grade based on persentage like Distinction,pass or fail "
   ]
  },
  {
   "cell_type": "code",
   "execution_count": 4,
   "id": "62bfcce7",
   "metadata": {},
   "outputs": [
    {
     "name": "stdout",
     "output_type": "stream",
     "text": [
      "Enter your Marks in 1st subject: 75\n",
      "Enter your Marks in 2nd subject: 75\n",
      "Enter your Marks in 3rd subject: 75\n",
      "Enter your Marks in 4th subject: 75\n",
      "75.0\n",
      "Distinction\n"
     ]
    }
   ],
   "source": [
    "a = float(input('Enter your Marks in 1st subject: '))\n",
    "b = float(input('Enter your Marks in 2nd subject: '))\n",
    "c = float(input('Enter your Marks in 3rd subject: '))\n",
    "d = float(input('Enter your Marks in 4th subject: '))\n",
    "total = a+b+c+d\n",
    "per = total/4\n",
    "print(per)\n",
    "if per >= 75:\n",
    "    print('Distinction')\n",
    "elif per>=40:\n",
    "    print('Pass')\n",
    "else:\n",
    "    print('Fail')"
   ]
  },
  {
   "cell_type": "markdown",
   "id": "ff6e1461",
   "metadata": {},
   "source": [
    "### 5. Program to check the given year is leap or not."
   ]
  },
  {
   "cell_type": "code",
   "execution_count": 5,
   "id": "c98bad3f",
   "metadata": {},
   "outputs": [
    {
     "name": "stdout",
     "output_type": "stream",
     "text": [
      "Enter the year: 2000\n",
      "It is LEAP YEAR\n"
     ]
    }
   ],
   "source": [
    "a = int(input('Enter the year: '))\n",
    "if a%4 == 0 and a%100 == 0 and a%400 == 0:\n",
    "    print('It is LEAP YEAR')\n",
    "elif a%4==0 and a%100!=0:\n",
    "    print('It is LEAP YEAR')\n",
    "else:\n",
    "    print('It is NOT LEAP YEAR')"
   ]
  }
 ],
 "metadata": {
  "kernelspec": {
   "display_name": "Python 3",
   "language": "python",
   "name": "python3"
  },
  "language_info": {
   "codemirror_mode": {
    "name": "ipython",
    "version": 3
   },
   "file_extension": ".py",
   "mimetype": "text/x-python",
   "name": "python",
   "nbconvert_exporter": "python",
   "pygments_lexer": "ipython3",
   "version": "3.8.8"
  }
 },
 "nbformat": 4,
 "nbformat_minor": 5
}
