{
 "cells": [
  {
   "cell_type": "markdown",
   "id": "99bb7745",
   "metadata": {},
   "source": [
    "# TASK:\n",
    "- Take Regression Dataset from github\n",
    "- Apply Linear Regression algorithm with one variable and multiple variables"
   ]
  },
  {
   "cell_type": "code",
   "execution_count": 1,
   "id": "981f79be",
   "metadata": {},
   "outputs": [],
   "source": [
    "import matplotlib.pyplot as plt\n",
    "import pandas as pd\n",
    "import numpy as np"
   ]
  },
  {
   "cell_type": "code",
   "execution_count": 2,
   "id": "656644e9",
   "metadata": {},
   "outputs": [
    {
     "data": {
      "text/html": [
       "<div>\n",
       "<style scoped>\n",
       "    .dataframe tbody tr th:only-of-type {\n",
       "        vertical-align: middle;\n",
       "    }\n",
       "\n",
       "    .dataframe tbody tr th {\n",
       "        vertical-align: top;\n",
       "    }\n",
       "\n",
       "    .dataframe thead th {\n",
       "        text-align: right;\n",
       "    }\n",
       "</style>\n",
       "<table border=\"1\" class=\"dataframe\">\n",
       "  <thead>\n",
       "    <tr style=\"text-align: right;\">\n",
       "      <th></th>\n",
       "      <th>R&amp;D Spend</th>\n",
       "      <th>Administration</th>\n",
       "      <th>Marketing Spend</th>\n",
       "      <th>State</th>\n",
       "      <th>Profit</th>\n",
       "    </tr>\n",
       "  </thead>\n",
       "  <tbody>\n",
       "    <tr>\n",
       "      <th>0</th>\n",
       "      <td>165349.20</td>\n",
       "      <td>136897.80</td>\n",
       "      <td>471784.10</td>\n",
       "      <td>New York</td>\n",
       "      <td>192261.83</td>\n",
       "    </tr>\n",
       "    <tr>\n",
       "      <th>1</th>\n",
       "      <td>162597.70</td>\n",
       "      <td>151377.59</td>\n",
       "      <td>443898.53</td>\n",
       "      <td>California</td>\n",
       "      <td>191792.06</td>\n",
       "    </tr>\n",
       "    <tr>\n",
       "      <th>2</th>\n",
       "      <td>153441.51</td>\n",
       "      <td>101145.55</td>\n",
       "      <td>407934.54</td>\n",
       "      <td>Florida</td>\n",
       "      <td>191050.39</td>\n",
       "    </tr>\n",
       "    <tr>\n",
       "      <th>3</th>\n",
       "      <td>144372.41</td>\n",
       "      <td>118671.85</td>\n",
       "      <td>383199.62</td>\n",
       "      <td>New York</td>\n",
       "      <td>182901.99</td>\n",
       "    </tr>\n",
       "    <tr>\n",
       "      <th>4</th>\n",
       "      <td>142107.34</td>\n",
       "      <td>91391.77</td>\n",
       "      <td>366168.42</td>\n",
       "      <td>Florida</td>\n",
       "      <td>166187.94</td>\n",
       "    </tr>\n",
       "  </tbody>\n",
       "</table>\n",
       "</div>"
      ],
      "text/plain": [
       "   R&D Spend  Administration  Marketing Spend       State     Profit\n",
       "0  165349.20       136897.80        471784.10    New York  192261.83\n",
       "1  162597.70       151377.59        443898.53  California  191792.06\n",
       "2  153441.51       101145.55        407934.54     Florida  191050.39\n",
       "3  144372.41       118671.85        383199.62    New York  182901.99\n",
       "4  142107.34        91391.77        366168.42     Florida  166187.94"
      ]
     },
     "execution_count": 2,
     "metadata": {},
     "output_type": "execute_result"
    }
   ],
   "source": [
    "data = pd.read_csv(\"https://raw.githubusercontent.com/AP-Skill-Development-Corporation/DataScienceUsingPython-Internship-SRM-University/main/Datasets/Datasets-master/Regression/1000_Companies.csv\")\n",
    "data.head()"
   ]
  },
  {
   "cell_type": "code",
   "execution_count": 3,
   "id": "159d5e22",
   "metadata": {},
   "outputs": [
    {
     "data": {
      "text/html": [
       "<div>\n",
       "<style scoped>\n",
       "    .dataframe tbody tr th:only-of-type {\n",
       "        vertical-align: middle;\n",
       "    }\n",
       "\n",
       "    .dataframe tbody tr th {\n",
       "        vertical-align: top;\n",
       "    }\n",
       "\n",
       "    .dataframe thead th {\n",
       "        text-align: right;\n",
       "    }\n",
       "</style>\n",
       "<table border=\"1\" class=\"dataframe\">\n",
       "  <thead>\n",
       "    <tr style=\"text-align: right;\">\n",
       "      <th></th>\n",
       "      <th>R&amp;D Spend</th>\n",
       "      <th>Administration</th>\n",
       "      <th>Marketing Spend</th>\n",
       "      <th>Profit</th>\n",
       "    </tr>\n",
       "  </thead>\n",
       "  <tbody>\n",
       "    <tr>\n",
       "      <th>count</th>\n",
       "      <td>1000.000000</td>\n",
       "      <td>1000.000000</td>\n",
       "      <td>1000.000000</td>\n",
       "      <td>1000.000000</td>\n",
       "    </tr>\n",
       "    <tr>\n",
       "      <th>mean</th>\n",
       "      <td>81668.927200</td>\n",
       "      <td>122963.897612</td>\n",
       "      <td>226205.058419</td>\n",
       "      <td>119546.164656</td>\n",
       "    </tr>\n",
       "    <tr>\n",
       "      <th>std</th>\n",
       "      <td>46537.567891</td>\n",
       "      <td>12613.927535</td>\n",
       "      <td>91578.393542</td>\n",
       "      <td>42888.633848</td>\n",
       "    </tr>\n",
       "    <tr>\n",
       "      <th>min</th>\n",
       "      <td>0.000000</td>\n",
       "      <td>51283.140000</td>\n",
       "      <td>0.000000</td>\n",
       "      <td>14681.400000</td>\n",
       "    </tr>\n",
       "    <tr>\n",
       "      <th>25%</th>\n",
       "      <td>43084.500000</td>\n",
       "      <td>116640.684850</td>\n",
       "      <td>150969.584600</td>\n",
       "      <td>85943.198543</td>\n",
       "    </tr>\n",
       "    <tr>\n",
       "      <th>50%</th>\n",
       "      <td>79936.000000</td>\n",
       "      <td>122421.612150</td>\n",
       "      <td>224517.887350</td>\n",
       "      <td>117641.466300</td>\n",
       "    </tr>\n",
       "    <tr>\n",
       "      <th>75%</th>\n",
       "      <td>124565.500000</td>\n",
       "      <td>129139.118000</td>\n",
       "      <td>308189.808525</td>\n",
       "      <td>155577.107425</td>\n",
       "    </tr>\n",
       "    <tr>\n",
       "      <th>max</th>\n",
       "      <td>165349.200000</td>\n",
       "      <td>321652.140000</td>\n",
       "      <td>471784.100000</td>\n",
       "      <td>476485.430000</td>\n",
       "    </tr>\n",
       "  </tbody>\n",
       "</table>\n",
       "</div>"
      ],
      "text/plain": [
       "           R&D Spend  Administration  Marketing Spend         Profit\n",
       "count    1000.000000     1000.000000      1000.000000    1000.000000\n",
       "mean    81668.927200   122963.897612    226205.058419  119546.164656\n",
       "std     46537.567891    12613.927535     91578.393542   42888.633848\n",
       "min         0.000000    51283.140000         0.000000   14681.400000\n",
       "25%     43084.500000   116640.684850    150969.584600   85943.198543\n",
       "50%     79936.000000   122421.612150    224517.887350  117641.466300\n",
       "75%    124565.500000   129139.118000    308189.808525  155577.107425\n",
       "max    165349.200000   321652.140000    471784.100000  476485.430000"
      ]
     },
     "execution_count": 3,
     "metadata": {},
     "output_type": "execute_result"
    }
   ],
   "source": [
    "data.describe()"
   ]
  },
  {
   "cell_type": "code",
   "execution_count": 4,
   "id": "49d23370",
   "metadata": {},
   "outputs": [
    {
     "data": {
      "text/plain": [
       "R&D Spend          0\n",
       "Administration     0\n",
       "Marketing Spend    0\n",
       "State              0\n",
       "Profit             0\n",
       "dtype: int64"
      ]
     },
     "execution_count": 4,
     "metadata": {},
     "output_type": "execute_result"
    }
   ],
   "source": [
    "data.isnull().sum()"
   ]
  },
  {
   "cell_type": "code",
   "execution_count": 5,
   "id": "87b677bd",
   "metadata": {},
   "outputs": [
    {
     "name": "stdout",
     "output_type": "stream",
     "text": [
      "<class 'pandas.core.frame.DataFrame'>\n",
      "RangeIndex: 1000 entries, 0 to 999\n",
      "Data columns (total 5 columns):\n",
      " #   Column           Non-Null Count  Dtype  \n",
      "---  ------           --------------  -----  \n",
      " 0   R&D Spend        1000 non-null   float64\n",
      " 1   Administration   1000 non-null   float64\n",
      " 2   Marketing Spend  1000 non-null   float64\n",
      " 3   State            1000 non-null   object \n",
      " 4   Profit           1000 non-null   float64\n",
      "dtypes: float64(4), object(1)\n",
      "memory usage: 39.2+ KB\n"
     ]
    }
   ],
   "source": [
    "data.info()"
   ]
  },
  {
   "cell_type": "code",
   "execution_count": 6,
   "id": "6ebb8973",
   "metadata": {},
   "outputs": [
    {
     "data": {
      "image/png": "[encoded data removed]",
      "text/plain": [
       "<Figure size 432x288 with 1 Axes>"
      ]
     },
     "metadata": {
      "needs_background": "light"
     },
     "output_type": "display_data"
    }
   ],
   "source": [
    "plt.scatter(data[\"R&D Spend\"],data[\"Marketing Spend\"])\n",
    "plt.xlabel(\"R&D Spend\")\n",
    "plt.ylabel(\"Marketing Spend\")\n",
    "plt.show()"
   ]
  },
  {
   "cell_type": "code",
   "execution_count": 7,
   "id": "6ff8031e",
   "metadata": {},
   "outputs": [
    {
     "data": {
      "text/html": [
       "<div>\n",
       "<style scoped>\n",
       "    .dataframe tbody tr th:only-of-type {\n",
       "        vertical-align: middle;\n",
       "    }\n",
       "\n",
       "    .dataframe tbody tr th {\n",
       "        vertical-align: top;\n",
       "    }\n",
       "\n",
       "    .dataframe thead th {\n",
       "        text-align: right;\n",
       "    }\n",
       "</style>\n",
       "<table border=\"1\" class=\"dataframe\">\n",
       "  <thead>\n",
       "    <tr style=\"text-align: right;\">\n",
       "      <th></th>\n",
       "      <th>R&amp;D Spend</th>\n",
       "    </tr>\n",
       "  </thead>\n",
       "  <tbody>\n",
       "    <tr>\n",
       "      <th>0</th>\n",
       "      <td>165349.20</td>\n",
       "    </tr>\n",
       "    <tr>\n",
       "      <th>1</th>\n",
       "      <td>162597.70</td>\n",
       "    </tr>\n",
       "    <tr>\n",
       "      <th>2</th>\n",
       "      <td>153441.51</td>\n",
       "    </tr>\n",
       "    <tr>\n",
       "      <th>3</th>\n",
       "      <td>144372.41</td>\n",
       "    </tr>\n",
       "    <tr>\n",
       "      <th>4</th>\n",
       "      <td>142107.34</td>\n",
       "    </tr>\n",
       "  </tbody>\n",
       "</table>\n",
       "</div>"
      ],
      "text/plain": [
       "   R&D Spend\n",
       "0  165349.20\n",
       "1  162597.70\n",
       "2  153441.51\n",
       "3  144372.41\n",
       "4  142107.34"
      ]
     },
     "execution_count": 7,
     "metadata": {},
     "output_type": "execute_result"
    }
   ],
   "source": [
    "X = data[[\"R&D Spend\"]] # input Feature\n",
    "X.head()"
   ]
  },
  {
   "cell_type": "code",
   "execution_count": 8,
   "id": "090772be",
   "metadata": {},
   "outputs": [
    {
     "data": {
      "text/plain": [
       "0    471784.10\n",
       "1    443898.53\n",
       "2    407934.54\n",
       "3    383199.62\n",
       "4    366168.42\n",
       "Name: Marketing Spend, dtype: float64"
      ]
     },
     "execution_count": 8,
     "metadata": {},
     "output_type": "execute_result"
    }
   ],
   "source": [
    "y = data[\"Marketing Spend\"] # Target variable\n",
    "y.head()"
   ]
  },
  {
   "cell_type": "code",
   "execution_count": 9,
   "id": "6f6a5a1b",
   "metadata": {},
   "outputs": [],
   "source": [
    "from sklearn.linear_model import LinearRegression"
   ]
  },
  {
   "cell_type": "code",
   "execution_count": 10,
   "id": "de0bc354",
   "metadata": {},
   "outputs": [],
   "source": [
    "lreg_model = LinearRegression()"
   ]
  },
  {
   "cell_type": "code",
   "execution_count": 11,
   "id": "78f6b1a6",
   "metadata": {},
   "outputs": [
    {
     "data": {
      "text/plain": [
       "LinearRegression()"
      ]
     },
     "execution_count": 11,
     "metadata": {},
     "output_type": "execute_result"
    }
   ],
   "source": [
    "lreg_model.fit(X,y)"
   ]
  },
  {
   "cell_type": "code",
   "execution_count": 12,
   "id": "0e3e36e3",
   "metadata": {},
   "outputs": [
    {
     "data": {
      "text/plain": [
       "array([387318.50528421, 382020.91680587, 364392.08647712, 346930.93449858,\n",
       "       342569.89189104, 322872.75902809, 328145.43353409, 319833.08112078,\n",
       "       301050.16011942, 306426.41821987, 265182.04937909, 262792.46442098,\n",
       "       249684.30710527, 246081.29232249, 299896.3389952 , 289461.67810299,\n",
       "       219166.34677876, 251211.89557505, 245612.9905069 , 235351.93802941,\n",
       "       215779.18249363, 219890.96985697, 211429.24913033, 198987.60796197,\n",
       "       217300.49433668, 193466.0632809 , 213998.25704693, 207796.19895584,\n",
       "       196136.15184265, 195277.37068151, 188324.94764124, 186672.80856318,\n",
       "       191048.11798178, 175809.18066645, 158350.37760956, 157557.03894611,\n",
       "       124151.79181825, 153814.03228316, 107913.09953534, 143202.60540942,\n",
       "       124326.17037121, 122667.65839915, 114481.10806877,  98818.03636641,\n",
       "       111663.96160843,  70889.93544959,  71496.86214994,  68964.14699831,\n",
       "        70007.7805926 ,  68964.14699831, 236759.94328262, 143613.64744621,\n",
       "       242127.80687617, 195045.405041  , 160849.34145245, 128156.97279451,\n",
       "       216023.97093598, 346065.66492269, 121487.57556064, 340615.01146741,\n",
       "       316059.15340715, 216561.14236446, 151923.43914985, 186323.58937431,\n",
       "        92168.41243208, 312614.71008977, 113220.14146069, 358984.73404488,\n",
       "       171230.80504512, 373020.5036277 , 144354.9055106 , 284156.17645414,\n",
       "       195850.1995109 , 234158.80134759, 338119.76354158,  95816.94238536,\n",
       "       325216.09718436, 367677.66952724, 124281.25205786, 149534.08523321,\n",
       "       339045.85478566, 122094.05943151,  86442.43455289, 110524.65759019,\n",
       "        77300.89354064, 274515.97092586, 333926.36077733, 190570.90181597,\n",
       "       135165.23085782, 210344.20135171, 101935.6907714 , 279783.71654707,\n",
       "       219845.78199523, 258013.83360153, 309936.55432987, 335759.28980927,\n",
       "       158386.82440218, 328383.2907322 , 254991.04097532, 340047.03450898,\n",
       "       153712.08523249, 358424.45846894, 314501.54879912,  86794.77280167,\n",
       "       180451.28522786, 155025.17094654, 361333.65570346, 187590.46679344,\n",
       "       300535.09165868, 113678.37371868, 271762.7266867 , 114211.69445591,\n",
       "        82618.69814802, 265611.2474251 , 234104.89167018, 306336.15801712,\n",
       "       217200.3571109 ,  83818.18847039, 124999.40597478, 348131.56077487,\n",
       "       250272.01885632, 219643.62070494, 340249.19579927, 322811.34050275,\n",
       "        71407.41059235, 153660.1009007 , 164990.75988491, 271260.21147942,\n",
       "       249159.16908693, 209662.6290016 , 251001.72484698, 361531.9663025 ,\n",
       "       186148.38292272, 266870.42346174, 171613.94882386, 293696.2640101 ,\n",
       "       163860.58200492, 349126.96446133, 354903.00132669, 212866.40411625,\n",
       "       269650.6225396 , 135802.52025863, 275856.01147862, 369348.86952695,\n",
       "       249713.668626  , 302198.59027591, 260118.23636614, 340310.80685917,\n",
       "       204864.66771211, 232298.91747695, 203927.0243943 , 340070.13865645,\n",
       "       322262.61700054, 344923.93496897, 268730.30733239, 196412.40043247,\n",
       "       277298.09534934, 340628.48888676, 244667.3377513 , 228326.9294592 ,\n",
       "       190942.49352097, 152984.30458745, 196620.33775962, 301630.61331748,\n",
       "       188273.96448917, 333483.53128431, 149478.25021018, 279138.72576377,\n",
       "       308954.62806275, 358890.39210941, 208932.92301094, 279593.10733051,\n",
       "       106785.63639268, 158746.86403346, 240785.84097778, 326858.41699975,\n",
       "       306748.18198019, 299110.33589856, 360290.11837645, 198256.88153814,\n",
       "       131193.24284007, 206882.42992374, 234697.89812169,  80622.11473823,\n",
       "       124895.43731121, 222941.73775506, 102278.40229208, 109906.6216456 ,\n",
       "       367265.64556418, 367623.75984983, 312148.7764493 , 367689.22160097,\n",
       "       171157.64191149, 130257.52486788, 160354.52762765, 357005.47874568,\n",
       "       214433.63545239, 126308.6409976 , 158248.19951741, 170456.81610516,\n",
       "       289472.0557159 , 327054.80225317, 271439.26862224, 232246.93314516,\n",
       "       160379.55712073, 170978.58476867, 317947.91746212, 141391.79859867,\n",
       "       223723.42807751,  96821.97279994, 340828.72483143, 345314.78013019,\n",
       "       247532.25203652, 128097.28708024, 205598.22439401, 287448.5174674 ,\n",
       "        78796.88708877, 283081.83359719,  80835.82810224,  89677.01519749,\n",
       "       107220.76450321, 232266.18660138, 161103.48707452, 368857.9063934 ,\n",
       "       112072.63547011, 266262.01424526, 209574.063103  , 278068.23359805,\n",
       "       151896.48431114, 233250.03821411, 176205.89813182, 162842.074171  ,\n",
       "       308742.84004436, 235564.3036515 , 213553.75250323, 327807.61239129,\n",
       "       113928.66864951, 182266.8861492 ,  76384.42902467,  90739.80598071,\n",
       "       139271.99306909, 194475.50273695,  73975.82165182,  74154.87879464,\n",
       "        78413.74331004, 104211.44929635, 348947.9073185 , 309568.8133161 ,\n",
       "       225152.03452887, 161663.76265046, 275946.50272285, 221000.9893683 ,\n",
       "        91244.24653362, 103483.66865132, 328916.61146944, 339473.28151369,\n",
       "       205609.77646774, 113331.81150676, 190216.63822156, 315310.19396027,\n",
       "       338631.90547697, 343583.89441621, 167940.38937749, 206420.34697451,\n",
       "       243567.96540126, 252799.99765773, 222795.41148781, 223598.28061209,\n",
       "       294139.09350311, 217570.02347028, 341985.85755012, 167509.11195821,\n",
       "       280205.36723824, 338893.75248153,  84979.17188033, 320510.55248472,\n",
       "       324642.34418907, 289587.5764532 ,  96590.93132532, 212323.45665091,\n",
       "       220506.1755435 , 204756.84835729, 191187.01241494,  93932.02902164,\n",
       "        82924.82810188, 124631.66496102, 179613.75988238, 144591.72302208,\n",
       "       339059.33220501, 195091.61333592, 291414.72944828, 367537.11929685,\n",
       "       173148.44928442, 165749.34605989, 243094.3303783 , 351348.81330887,\n",
       "       224996.08153351, 305138.59304037, 170518.42716506, 336935.67598418,\n",
       "       191140.80412002, 321163.2446505 , 199650.83176831, 349111.56169636,\n",
       "       123328.20597507, 287227.10272089, 328475.70732205, 374568.48150762,\n",
       "       301006.80133602, 185393.64743898, 365671.45938934, 146399.62256094,\n",
       "       231474.86955082, 108682.10183014, 237501.20134701, 297175.36354866,\n",
       "       317959.46953585, 154576.56541667, 176604.44467553, 195447.80227595,\n",
       "       355112.86399946, 339719.72575328, 370690.83542534, 262665.46862376,\n",
       "       116770.47878727, 340744.00962407, 264554.23267874,  71303.44192878,\n",
       "        94511.55805379, 368700.02805241, 166452.09721185, 374395.20040166,\n",
       "       264044.01608896, 124760.66311768, 320558.68612526, 231719.38844479,\n",
       "       263853.4068724 , 306324.60594339, 221083.77923004, 280446.03544096,\n",
       "       253837.75894787, 332445.76999417, 346964.80132806, 280093.69719217,\n",
       "       165327.69536872, 184812.1930612 , 284685.64650014, 268274.00042003,\n",
       "       323165.60409716, 167874.92762635, 202810.32393366, 276337.34788407,\n",
       "       310371.68244039, 370082.42620885, 297589.31285735, 138291.9921476 ,\n",
       "        84287.97280211, 303099.6520269 , 286851.66032464, 247376.29904116,\n",
       "       139893.87970492, 347486.56999157, 188818.83730014, 164089.69813391,\n",
       "       314907.79672532,  80710.68063683, 344244.28796448, 335680.35063877,\n",
       "       305598.75064398, 196233.34328964, 105410.93961873, 105358.95528694,\n",
       "       339867.97736616, 284814.64465679, 344377.13681238, 166894.92670486,\n",
       "       323417.82437361, 201658.96725183, 373066.71192262, 301328.33405486,\n",
       "        75456.41243497, 171030.56910045, 192634.87232252, 266391.01240192,\n",
       "       122866.12302584,  74953.89722769, 197831.38015572, 296178.03451658,\n",
       "       103990.03454985, 229751.68521932, 307258.39856996, 154495.70090055,\n",
       "       345102.9921118 , 313848.85663334, 111348.70551632, 354544.88704104,\n",
       "        78305.92395522, 237127.68429639,  92861.53685592, 196768.5893725 ,\n",
       "       330389.5008701 , 365557.86399766, 244675.03913379, 345395.64464631,\n",
       "       241607.96355828,  76159.16358692,  93639.37648712, 158974.05481683,\n",
       "       101132.82164712,  90676.26957519, 132034.61887679, 321326.89902835,\n",
       "       133904.12947555, 178146.64651858, 152225.71841247, 296049.03635992,\n",
       "       249047.49904087, 138940.83362214, 306070.46032132, 351541.34787105,\n",
       "       310450.62161088, 119319.63639051, 286782.34788226, 375461.84187613,\n",
       "       113788.11841912, 348212.42529098, 298111.08152085, 376191.54786678,\n",
       "       197394.32669958, 255183.5755375 , 217275.44559015, 177907.90366148,\n",
       "       134943.81611131, 151757.85942637, 243412.0124059 , 109968.2327055 ,\n",
       "       352852.50823949,  91935.44561184, 190006.77554878, 276639.62714669,\n",
       "       313026.73405283, 161996.84744303, 324553.77829047, 242691.93314335,\n",
       "        90941.967271  , 331517.75340447, 162534.01887151, 321586.8206873 ,\n",
       "       155229.25758245, 122382.86127477, 177607.54974448, 113172.00782015,\n",
       "       313486.89165644, 151218.76265227, 139970.89352979, 326998.96723014,\n",
       "       271907.12760834, 330743.76446451, 112494.28616128, 162520.54145216,\n",
       "       156848.47325038, 104943.08063263, 375352.09717568, 117471.3045936 ,\n",
       "       164018.46034591, 230687.40319151, 313679.42621862, 285790.79488704,\n",
       "       105141.39123168, 129670.29445324, 366932.56077161, 188955.53683929,\n",
       "       335410.80225172, 173774.1866115 , 316713.77091855, 138996.66864517,\n",
       "       244852.17093099, 375144.15984853, 110093.38017091, 132540.98477532,\n",
       "       329677.12299004, 149820.96173085, 319054.99119465, 124945.49629737,\n",
       "       186352.46955863, 200176.45112306, 222242.83729435, 309772.89995201,\n",
       "       278108.66585611, 143180.44468131, 279602.73405862, 281493.42345921,\n",
       "       121805.25758824, 260734.34696511,  88933.83178748, 350721.15063617,\n",
       "       107819.54699158, 272020.72300002, 181650.77555023, 276398.95894397,\n",
       "       310806.81055091, 156948.59122271, 243313.81977919, 106446.77556325,\n",
       "       262472.93406158, 208540.1525041 , 190977.14974216, 149593.77094748,\n",
       "       272977.61977405, 113301.00597681, 175299.06034396, 180324.21241682,\n",
       "       285413.42714517, 270798.12853019, 271133.13866838, 133413.16634199,\n",
       "       264157.61148065, 165029.26679735, 340247.27045365, 259594.54235701,\n",
       "       117367.33593002, 238527.41056342,  80427.65483042, 351329.55985265,\n",
       "       300583.22529923, 365311.41975807,  82349.14976097, 116208.27786571,\n",
       "       133882.95067371, 185083.66679387, 373368.99118524, 300515.83820246,\n",
       "       305479.37921543, 371100.93404278, 165447.06679727,  92199.21796203,\n",
       "       219329.78936859, 203280.10826538, 370611.89625485, 280879.23820586,\n",
       "       356518.36630337, 307564.52852382, 368517.12021834, 183620.40412132,\n",
       "       132292.61519011, 354598.79671845, 134593.40320814,  86586.83547452,\n",
       "       340611.16077617, 128490.05758708, 292365.85018544, 283453.42530219,\n",
       "       278998.17553338, 353753.56999048, 224691.87692527, 203609.3423667 ,\n",
       "       200469.10365757, 230296.55803029, 297404.47967766, 197511.77278251,\n",
       "       320953.38197773, 288626.82898793, 178676.11656457, 242385.80318949,\n",
       "       120467.1423811 , 251600.50733536, 193187.44651597, 197735.11287463,\n",
       "       290194.06032407, 277421.31746913, 215340.47324025, 374454.88611593,\n",
       "        80294.80598252, 130588.68431483, 182257.25942109, 180370.42071174,\n",
       "       350622.95800946, 247695.90641437, 355890.70363067, 201116.01978649,\n",
       "       162379.99122177, 138103.30827666, 149085.47970333, 334109.2686114 ,\n",
       "       125351.74422357, 251194.25940916, 149016.16726095, 253812.72945479,\n",
       "       220354.07323938, 106011.64745272, 247072.09443291, 246425.17830399,\n",
       "       203880.81609938, 356992.00132633,  82393.43271027, 368476.68796028,\n",
       "       190307.12946578,  88140.5893913 , 106105.98938819, 323974.24925831,\n",
       "        74911.53962401, 269523.54972857, 364708.78657845,  94602.04929802,\n",
       "       360867.72206298, 368771.26584042, 216291.59397741, 150254.16449576,\n",
       "       312487.63727873, 296572.73036904, 245241.09074659, 305960.71562088,\n",
       "       242559.08429545, 269952.90180222, 186878.08891338, 185990.50458174,\n",
       "       101284.92395124, 363052.98934371, 375094.10086236, 189733.37647049,\n",
       "       354723.94418386, 330591.66216039, 261063.58106644,  96625.58754651,\n",
       "       331438.81423398, 133499.80689497, 305648.80963015, 210070.80227342,\n",
       "       198518.7285427 , 113008.3534423 , 309847.98843126, 239488.1580287 ,\n",
       "       347833.13220349, 375552.33312035, 313625.51654121, 199304.26955639,\n",
       "       194702.69352032, 231137.93406701,  86065.06681102, 318182.80962798,\n",
       "       354450.54510557, 181073.17186369, 332549.73865775,  77025.56911673,\n",
       "       224043.03545072, 138858.0437604 , 138906.17740095, 268840.05203283,\n",
       "       295340.5091711 , 365894.79948147, 191502.76909691, 157468.43454059,\n",
       "       186067.51840661, 276420.13774581, 279808.74604015, 353235.65201822,\n",
       "        86900.66681087, 204352.52577671, 335672.64925629, 304691.91285612,\n",
       "       244336.17830435, 130969.90274794, 105524.53501041, 345603.58197346,\n",
       "       226526.73130283, 337726.99303473, 173073.36080517,  92024.01151045,\n",
       "       326875.74511034, 325246.90271431,  86413.55436856, 138324.72302317,\n",
       "       146320.68339045, 126366.40136625, 287425.41331994,  93194.62164849,\n",
       "       260083.58014495, 120089.77463923, 164542.15435503, 329827.29994854,\n",
       "       180218.31840762, 166933.43361729, 265676.70917624, 138297.76818446,\n",
       "       284810.79396555, 170970.88338618, 185158.75527312, 142868.53869058,\n",
       "       104837.18662343, 214194.89259529, 221434.1921332 , 216224.20688065,\n",
       "       182201.42439806, 206364.51195148, 239646.03636968, 326165.2925759 ,\n",
       "       284843.52484112, 273790.11562645,  72200.65298853, 166617.67693532,\n",
       "       315822.33589567, 136878.78846121, 192627.17094003, 180152.85665648,\n",
       "       369092.79855926, 116741.59860294,  78995.19768782, 229684.29812256,\n",
       "       281678.2566389 ,  86444.35989851, 208280.23084516, 283642.10917313,\n",
       "       161538.61518505, 151311.17924212, 181144.4096517 ,  98098.47694718,\n",
       "       246315.43360355, 116855.19399463, 317772.71101054,  73384.74054593,\n",
       "       146942.57002628, 157870.83177554, 337990.76538492, 156147.64744405,\n",
       "       349523.58565942, 358524.57644127, 366965.29164718, 228711.99858356,\n",
       "       301572.85294882, 280407.52852853, 356089.01422971, 329026.35616988,\n",
       "        87501.37464487, 358364.77275466, 294693.59304218, 252996.38291115,\n",
       "       201847.65112277, 209202.47139799, 237222.02623185, 326126.78566347,\n",
       "       164382.35066843, 334609.85847306,  83858.62072845,  89578.82257078,\n",
       "       311268.89350014, 194789.3340733 , 367377.31561024, 330062.1921144 ,\n",
       "       257973.40134347, 142317.88984275, 245707.02438707, 219992.10826249,\n",
       "       322728.55064101, 275318.84005014,  74020.10460112, 231719.38844479,\n",
       "       106906.93316685,  94230.45759301,  76274.68432423, 324463.28704624,\n",
       "       112186.23086179, 228817.89259276, 122207.65482319, 370844.86307508,\n",
       "       210998.81886312, 125702.15712673, 328814.56815148, 351181.30823978,\n",
       "       227737.77369893, 223580.9525015 , 319622.96815307, 301420.7506447 ,\n",
       "       198330.04467177, 229909.56356031, 277153.69442771,  75845.33225057,\n",
       "       258246.80042176, 348277.88704212, 325880.34142388, 204741.44559232,\n",
       "       283287.84557872, 274631.49166317, 276849.48981946,  89157.1718796 ,\n",
       "       242362.69904202, 230535.30088739, 249137.99028509, 105443.6704943 ,\n",
       "       184740.9552732 , 359421.78750102, 269117.30180237, 246731.30825786,\n",
       "       305922.20870844, 342365.15063762,  93154.18939043, 162899.83453965,\n",
       "       168687.42347874, 154634.32578532, 136886.48984369, 367477.43358258,\n",
       "       351556.75063602, 102526.77187729, 276154.44005   ,  82853.59031388,\n",
       "       275940.72668598, 341017.40870237, 146518.99398949, 375471.46860423,\n",
       "       337640.35248175, 311139.89534348, 303053.44373198, 335713.08151434,\n",
       "       326327.02160813, 252405.30180526, 155027.09629217, 241226.74512517,\n",
       "       350376.51376987, 280576.95894324, 130544.40136553, 315017.54142576,\n",
       "       111109.96265921, 177836.66587347, 342638.54971591, 230569.95710858,\n",
       "       295771.78659038, 137658.55343803, 337413.16169838, 342640.47506153,\n",
       "       241679.20134629, 102116.67325985, 317678.36907507, 122687.06588302,\n",
       "       239220.53498727, 357369.3690682 , 333882.07782802, 281504.97553294,\n",
       "       340855.67967013, 125964.0041313 , 374653.19671498, 265077.92668786,\n",
       "       374308.55984868, 172709.47048265, 342825.30824122, 287945.25663782,\n",
       "       204889.69720519, 297681.72944719,  84151.27326296, 156971.69537017,\n",
       "       206091.11287319, 376012.49072396, 158121.12670638, 153970.0815458 ,\n",
       "       182030.06863772, 179222.91472116, 329636.69073198, 349550.54049812,\n",
       "       207186.63453198, 283411.06769851, 190076.08799117, 156007.09721365,\n",
       "       366612.9533984 , 104873.76819025, 364708.78657845, 275309.21332203,\n",
       "       120212.99675902, 133409.31565075,  74043.20874858, 140692.89813796,\n",
       "       152506.81887325, 257012.6538782 ,  72110.16174431, 182532.58384501,\n",
       "       178075.40873057, 271520.13313836, 292311.94050803, 317191.25663276,\n",
       "       143781.15251531, 185541.89905186, 214131.35618977,  99386.53316816,\n",
       "       154784.50274382, 249178.42254315,  79368.71473844, 193204.77462657,\n",
       "       102648.06865146, 335749.66308116, 221249.35895351, 331640.97552426,\n",
       "       158448.43546208, 303039.96631263, 104430.93869724,  74127.92395594,\n",
       "        87072.02257121, 108008.23086252, 119003.87970854, 333514.33681426,\n",
       "        87965.38293972, 140569.67601817, 118252.99491604, 317358.76170185,\n",
       "       211974.96909337, 220477.29535918, 233225.00872102, 322408.9432678 ,\n",
       "       322337.70547979, 355155.22160314, 224892.11286993, 262673.17000625,\n",
       "       364982.18565674, 273354.98751592, 148623.3967541 , 361826.54418263,\n",
       "       179059.2603433 ,  82260.58386237, 172896.22900797, 197883.36448751,\n",
       "       192425.00964975, 262087.86493723, 351427.75247936, 144441.54606358,\n",
       "       106625.83270607, 176125.0336157 , 116564.46680574, 169420.98016064,\n",
       "       300779.61055265, 137177.21703258, 146763.51288346,  95146.92210898,\n",
       "       236182.33959609,  76736.76727346, 322360.80962725, 201144.89997082,\n",
       "       275157.11101791, 188605.12393612,  87243.37833155, 317312.55340693,\n",
       "       327333.97736833, 313406.02714032, 164952.25297247, 314434.16170236,\n",
       "       172505.38384674, 294208.40594549, 315710.6658496 , 207906.71379453,\n",
       "       289058.10640721,  90537.64469043, 229834.47508106, 323073.18750731,\n",
       "       130838.97924566, 172963.61610473, 193366.5036588 ,  91344.36450595,\n",
       "       129780.03915368,  93238.90459779, 250637.83452446,  73405.91934777,\n",
       "       132810.53316237, 376530.40869622, 365827.41238471, 347215.0962589 ,\n",
       "       274546.77645581, 100653.41058729, 344785.3100842 , 210457.7967434 ,\n",
       "       237179.66862817, 167836.42071391, 196131.29997169, 126191.19491467,\n",
       "       350295.64925375,  98691.48339869,  95641.73593378, 207259.79766561,\n",
       "       321480.9266781 , 201194.95895698, 277009.29350607, 338799.41054607,\n",
       "       178420.04559687, 160298.69260462, 182303.46771601,  93828.06035806,\n",
       "       189440.72393598, 171211.5515889 , 306815.56907695, 163115.47324929,\n",
       "       271400.76170981, 191445.00872826, 262278.47415378, 148459.74237625,\n",
       "       145920.21150112, 152778.29260592, 331067.22252897, 321388.51008825,\n",
       "       271369.95617986, 159066.47140667, 256125.06954655, 173192.73223372,\n",
       "       328828.04557083, 262029.08413539, 316286.78702001, 379294.66591233])"
      ]
     },
     "execution_count": 12,
     "metadata": {},
     "output_type": "execute_result"
    }
   ],
   "source": [
    "pred_values = lreg_model.predict(X)\n",
    "pred_values"
   ]
  },
  {
   "cell_type": "code",
   "execution_count": 13,
   "id": "011d718b",
   "metadata": {},
   "outputs": [
    {
     "name": "stdout",
     "output_type": "stream",
     "text": [
      "Accuracy score of the model is  95.72794306814457 %\n"
     ]
    }
   ],
   "source": [
    "from sklearn.metrics import r2_score\n",
    "print(\"Accuracy score of the model is \" ,r2_score(y,pred_values) * 100,\"%\")"
   ]
  },
  {
   "cell_type": "code",
   "execution_count": 14,
   "id": "1dd72eb9",
   "metadata": {},
   "outputs": [
    {
     "data": {
      "text/plain": [
       "R&D Spend    44017.0\n",
       "Name: 100, dtype: float64"
      ]
     },
     "execution_count": 14,
     "metadata": {},
     "output_type": "execute_result"
    }
   ],
   "source": [
    "X.iloc[100]"
   ]
  },
  {
   "cell_type": "code",
   "execution_count": 15,
   "id": "fafa6d20",
   "metadata": {},
   "outputs": [
    {
     "data": {
      "text/plain": [
       "153709.9609"
      ]
     },
     "execution_count": 15,
     "metadata": {},
     "output_type": "execute_result"
    }
   ],
   "source": [
    "y.iloc[100]  # actual value"
   ]
  },
  {
   "cell_type": "code",
   "execution_count": 16,
   "id": "2e1683be",
   "metadata": {},
   "outputs": [
    {
     "data": {
      "text/plain": [
       "array([153712.08523249])"
      ]
     },
     "execution_count": 16,
     "metadata": {},
     "output_type": "execute_result"
    }
   ],
   "source": [
    "lreg_model.predict([[44017.0]])  # 1246 predcited value from the model"
   ]
  },
  {
   "cell_type": "code",
   "execution_count": 17,
   "id": "274294a9",
   "metadata": {},
   "outputs": [
    {
     "data": {
      "text/plain": [
       "array([79742.80939276])"
      ]
     },
     "execution_count": 17,
     "metadata": {},
     "output_type": "execute_result"
    }
   ],
   "source": [
    "lreg_model.predict([[5598.3]])  # new data point"
   ]
  },
  {
   "cell_type": "code",
   "execution_count": 18,
   "id": "cddf36db",
   "metadata": {},
   "outputs": [],
   "source": [
    "from sklearn.metrics import mean_squared_error"
   ]
  },
  {
   "cell_type": "code",
   "execution_count": 19,
   "id": "dae8f821",
   "metadata": {},
   "outputs": [
    {
     "data": {
      "image/png": "[encoded data removed]",
      "text/plain": [
       "<Figure size 432x288 with 1 Axes>"
      ]
     },
     "metadata": {
      "needs_background": "light"
     },
     "output_type": "display_data"
    }
   ],
   "source": [
    "plt.scatter(data[\"R&D Spend\"],data[\"Marketing Spend\"])\n",
    "plt.xlabel(\"R&D Spend\")\n",
    "plt.ylabel(\"Marketing Spend\")\n",
    "plt.show()"
   ]
  },
  {
   "cell_type": "code",
   "execution_count": 20,
   "id": "ff30aa49",
   "metadata": {},
   "outputs": [
    {
     "data": {
      "text/plain": [
       "0.0"
      ]
     },
     "execution_count": 20,
     "metadata": {},
     "output_type": "execute_result"
    }
   ],
   "source": [
    "y.min()"
   ]
  },
  {
   "cell_type": "code",
   "execution_count": 21,
   "id": "9a92d934",
   "metadata": {},
   "outputs": [
    {
     "data": {
      "text/plain": [
       "471784.1"
      ]
     },
     "execution_count": 21,
     "metadata": {},
     "output_type": "execute_result"
    }
   ],
   "source": [
    "y.max()"
   ]
  },
  {
   "cell_type": "code",
   "execution_count": 22,
   "id": "5660c28e",
   "metadata": {},
   "outputs": [
    {
     "data": {
      "text/plain": [
       "68964.14699830784"
      ]
     },
     "execution_count": 22,
     "metadata": {},
     "output_type": "execute_result"
    }
   ],
   "source": [
    "pred_values.min()"
   ]
  },
  {
   "cell_type": "code",
   "execution_count": 23,
   "id": "4bb2c587",
   "metadata": {},
   "outputs": [
    {
     "data": {
      "text/plain": [
       "387318.5052842117"
      ]
     },
     "execution_count": 23,
     "metadata": {},
     "output_type": "execute_result"
    }
   ],
   "source": [
    "pred_values.max()"
   ]
  },
  {
   "cell_type": "code",
   "execution_count": 24,
   "id": "ab6f0996",
   "metadata": {},
   "outputs": [
    {
     "data": {
      "text/plain": [
       "68964.14699830784"
      ]
     },
     "execution_count": 24,
     "metadata": {},
     "output_type": "execute_result"
    }
   ],
   "source": [
    "lreg_model.intercept_"
   ]
  },
  {
   "cell_type": "code",
   "execution_count": 25,
   "id": "ff00de40",
   "metadata": {},
   "outputs": [
    {
     "data": {
      "text/plain": [
       "array([1.92534562])"
      ]
     },
     "execution_count": 25,
     "metadata": {},
     "output_type": "execute_result"
    }
   ],
   "source": [
    "lreg_model.coef_"
   ]
  },
  {
   "cell_type": "code",
   "execution_count": 26,
   "id": "01160713",
   "metadata": {},
   "outputs": [
    {
     "data": {
      "text/plain": [
       "R&D Spend    44017.0\n",
       "Name: 100, dtype: float64"
      ]
     },
     "execution_count": 26,
     "metadata": {},
     "output_type": "execute_result"
    }
   ],
   "source": [
    "X.iloc[100]"
   ]
  },
  {
   "cell_type": "code",
   "execution_count": 27,
   "id": "f285854c",
   "metadata": {},
   "outputs": [
    {
     "data": {
      "text/plain": [
       "R&D Spend    153712.085232\n",
       "Name: 100, dtype: float64"
      ]
     },
     "execution_count": 27,
     "metadata": {},
     "output_type": "execute_result"
    }
   ],
   "source": [
    "# y = mx+c\n",
    "y = lreg_model.coef_*X.iloc[100] + lreg_model.intercept_\n",
    "y"
   ]
  },
  {
   "cell_type": "code",
   "execution_count": 29,
   "id": "97778f4e",
   "metadata": {},
   "outputs": [
    {
     "data": {
      "text/plain": [
       "array([153712.08523249])"
      ]
     },
     "execution_count": 29,
     "metadata": {},
     "output_type": "execute_result"
    }
   ],
   "source": [
    "lreg_model.predict([[44017.0]])"
   ]
  },
  {
   "cell_type": "markdown",
   "id": "edcdb935",
   "metadata": {},
   "source": [
    "### Linear Regression with multi variable"
   ]
  },
  {
   "cell_type": "code",
   "execution_count": 30,
   "id": "65f2f886",
   "metadata": {},
   "outputs": [],
   "source": [
    "from sklearn.datasets import load_diabetes"
   ]
  },
  {
   "cell_type": "code",
   "execution_count": 31,
   "id": "a158152a",
   "metadata": {},
   "outputs": [],
   "source": [
    "diabetes = load_diabetes()"
   ]
  },
  {
   "cell_type": "code",
   "execution_count": 32,
   "id": "650abbfc",
   "metadata": {},
   "outputs": [
    {
     "name": "stdout",
     "output_type": "stream",
     "text": [
      "{'data': array([[ 0.03807591,  0.05068012,  0.06169621, ..., -0.00259226,\n",
      "         0.01990842, -0.01764613],\n",
      "       [-0.00188202, -0.04464164, -0.05147406, ..., -0.03949338,\n",
      "        -0.06832974, -0.09220405],\n",
      "       [ 0.08529891,  0.05068012,  0.04445121, ..., -0.00259226,\n",
      "         0.00286377, -0.02593034],\n",
      "       ...,\n",
      "       [ 0.04170844,  0.05068012, -0.01590626, ..., -0.01107952,\n",
      "        -0.04687948,  0.01549073],\n",
      "       [-0.04547248, -0.04464164,  0.03906215, ...,  0.02655962,\n",
      "         0.04452837, -0.02593034],\n",
      "       [-0.04547248, -0.04464164, -0.0730303 , ..., -0.03949338,\n",
      "        -0.00421986,  0.00306441]]), 'target': array([151.,  75., 141., 206., 135.,  97., 138.,  63., 110., 310., 101.,\n",
      "        69., 179., 185., 118., 171., 166., 144.,  97., 168.,  68.,  49.,\n",
      "        68., 245., 184., 202., 137.,  85., 131., 283., 129.,  59., 341.,\n",
      "        87.,  65., 102., 265., 276., 252.,  90., 100.,  55.,  61.,  92.,\n",
      "       259.,  53., 190., 142.,  75., 142., 155., 225.,  59., 104., 182.,\n",
      "       128.,  52.,  37., 170., 170.,  61., 144.,  52., 128.,  71., 163.,\n",
      "       150.,  97., 160., 178.,  48., 270., 202., 111.,  85.,  42., 170.,\n",
      "       200., 252., 113., 143.,  51.,  52., 210.,  65., 141.,  55., 134.,\n",
      "        42., 111.,  98., 164.,  48.,  96.,  90., 162., 150., 279.,  92.,\n",
      "        83., 128., 102., 302., 198.,  95.,  53., 134., 144., 232.,  81.,\n",
      "       104.,  59., 246., 297., 258., 229., 275., 281., 179., 200., 200.,\n",
      "       173., 180.,  84., 121., 161.,  99., 109., 115., 268., 274., 158.,\n",
      "       107.,  83., 103., 272.,  85., 280., 336., 281., 118., 317., 235.,\n",
      "        60., 174., 259., 178., 128.,  96., 126., 288.,  88., 292.,  71.,\n",
      "       197., 186.,  25.,  84.,  96., 195.,  53., 217., 172., 131., 214.,\n",
      "        59.,  70., 220., 268., 152.,  47.,  74., 295., 101., 151., 127.,\n",
      "       237., 225.,  81., 151., 107.,  64., 138., 185., 265., 101., 137.,\n",
      "       143., 141.,  79., 292., 178.,  91., 116.,  86., 122.,  72., 129.,\n",
      "       142.,  90., 158.,  39., 196., 222., 277.,  99., 196., 202., 155.,\n",
      "        77., 191.,  70.,  73.,  49.,  65., 263., 248., 296., 214., 185.,\n",
      "        78.,  93., 252., 150.,  77., 208.,  77., 108., 160.,  53., 220.,\n",
      "       154., 259.,  90., 246., 124.,  67.,  72., 257., 262., 275., 177.,\n",
      "        71.,  47., 187., 125.,  78.,  51., 258., 215., 303., 243.,  91.,\n",
      "       150., 310., 153., 346.,  63.,  89.,  50.,  39., 103., 308., 116.,\n",
      "       145.,  74.,  45., 115., 264.,  87., 202., 127., 182., 241.,  66.,\n",
      "        94., 283.,  64., 102., 200., 265.,  94., 230., 181., 156., 233.,\n",
      "        60., 219.,  80.,  68., 332., 248.,  84., 200.,  55.,  85.,  89.,\n",
      "        31., 129.,  83., 275.,  65., 198., 236., 253., 124.,  44., 172.,\n",
      "       114., 142., 109., 180., 144., 163., 147.,  97., 220., 190., 109.,\n",
      "       191., 122., 230., 242., 248., 249., 192., 131., 237.,  78., 135.,\n",
      "       244., 199., 270., 164.,  72.,  96., 306.,  91., 214.,  95., 216.,\n",
      "       263., 178., 113., 200., 139., 139.,  88., 148.,  88., 243.,  71.,\n",
      "        77., 109., 272.,  60.,  54., 221.,  90., 311., 281., 182., 321.,\n",
      "        58., 262., 206., 233., 242., 123., 167.,  63., 197.,  71., 168.,\n",
      "       140., 217., 121., 235., 245.,  40.,  52., 104., 132.,  88.,  69.,\n",
      "       219.,  72., 201., 110.,  51., 277.,  63., 118.,  69., 273., 258.,\n",
      "        43., 198., 242., 232., 175.,  93., 168., 275., 293., 281.,  72.,\n",
      "       140., 189., 181., 209., 136., 261., 113., 131., 174., 257.,  55.,\n",
      "        84.,  42., 146., 212., 233.,  91., 111., 152., 120.,  67., 310.,\n",
      "        94., 183.,  66., 173.,  72.,  49.,  64.,  48., 178., 104., 132.,\n",
      "       220.,  57.]), 'frame': None, 'DESCR': '.. _diabetes_dataset:\\n\\nDiabetes dataset\\n----------------\\n\\nTen baseline variables, age, sex, body mass index, average blood\\npressure, and six blood serum measurements were obtained for each of n =\\n442 diabetes patients, as well as the response of interest, a\\nquantitative measure of disease progression one year after baseline.\\n\\n**Data Set Characteristics:**\\n\\n  :Number of Instances: 442\\n\\n  :Number of Attributes: First 10 columns are numeric predictive values\\n\\n  :Target: Column 11 is a quantitative measure of disease progression one year after baseline\\n\\n  :Attribute Information:\\n      - age     age in years\\n      - sex\\n      - bmi     body mass index\\n      - bp      average blood pressure\\n      - s1      tc, T-Cells (a type of white blood cells)\\n      - s2      ldl, low-density lipoproteins\\n      - s3      hdl, high-density lipoproteins\\n      - s4      tch, thyroid stimulating hormone\\n      - s5      ltg, lamotrigine\\n      - s6      glu, blood sugar level\\n\\nNote: Each of these 10 feature variables have been mean centered and scaled by the standard deviation times `n_samples` (i.e. the sum of squares of each column totals 1).\\n\\nSource URL:\\nhttps://www4.stat.ncsu.edu/~boos/var.select/diabetes.html\\n\\nFor more information see:\\nBradley Efron, Trevor Hastie, Iain Johnstone and Robert Tibshirani (2004) \"Least Angle Regression,\" Annals of Statistics (with discussion), 407-499.\\n(https://web.stanford.edu/~hastie/Papers/LARS/LeastAngle_2002.pdf)', 'feature_names': ['age', 'sex', 'bmi', 'bp', 's1', 's2', 's3', 's4', 's5', 's6'], 'data_filename': 'C:\\\\Users\\\\sonal\\\\anaconda3\\\\lib\\\\site-packages\\\\sklearn\\\\datasets\\\\data\\\\diabetes_data.csv.gz', 'target_filename': 'C:\\\\Users\\\\sonal\\\\anaconda3\\\\lib\\\\site-packages\\\\sklearn\\\\datasets\\\\data\\\\diabetes_target.csv.gz'}\n"
     ]
    }
   ],
   "source": [
    "print(diabetes)"
   ]
  },
  {
   "cell_type": "code",
   "execution_count": 33,
   "id": "e78cdda2",
   "metadata": {},
   "outputs": [
    {
     "data": {
      "text/plain": [
       "['age', 'sex', 'bmi', 'bp', 's1', 's2', 's3', 's4', 's5', 's6']"
      ]
     },
     "execution_count": 33,
     "metadata": {},
     "output_type": "execute_result"
    }
   ],
   "source": [
    "diabetes.feature_names"
   ]
  },
  {
   "cell_type": "code",
   "execution_count": 34,
   "id": "af9c52e3",
   "metadata": {},
   "outputs": [
    {
     "data": {
      "text/html": [
       "<div>\n",
       "<style scoped>\n",
       "    .dataframe tbody tr th:only-of-type {\n",
       "        vertical-align: middle;\n",
       "    }\n",
       "\n",
       "    .dataframe tbody tr th {\n",
       "        vertical-align: top;\n",
       "    }\n",
       "\n",
       "    .dataframe thead th {\n",
       "        text-align: right;\n",
       "    }\n",
       "</style>\n",
       "<table border=\"1\" class=\"dataframe\">\n",
       "  <thead>\n",
       "    <tr style=\"text-align: right;\">\n",
       "      <th></th>\n",
       "      <th>age</th>\n",
       "      <th>sex</th>\n",
       "      <th>bmi</th>\n",
       "      <th>bp</th>\n",
       "      <th>s1</th>\n",
       "      <th>s2</th>\n",
       "      <th>s3</th>\n",
       "      <th>s4</th>\n",
       "      <th>s5</th>\n",
       "      <th>s6</th>\n",
       "    </tr>\n",
       "  </thead>\n",
       "  <tbody>\n",
       "    <tr>\n",
       "      <th>0</th>\n",
       "      <td>0.038076</td>\n",
       "      <td>0.050680</td>\n",
       "      <td>0.061696</td>\n",
       "      <td>0.021872</td>\n",
       "      <td>-0.044223</td>\n",
       "      <td>-0.034821</td>\n",
       "      <td>-0.043401</td>\n",
       "      <td>-0.002592</td>\n",
       "      <td>0.019908</td>\n",
       "      <td>-0.017646</td>\n",
       "    </tr>\n",
       "    <tr>\n",
       "      <th>1</th>\n",
       "      <td>-0.001882</td>\n",
       "      <td>-0.044642</td>\n",
       "      <td>-0.051474</td>\n",
       "      <td>-0.026328</td>\n",
       "      <td>-0.008449</td>\n",
       "      <td>-0.019163</td>\n",
       "      <td>0.074412</td>\n",
       "      <td>-0.039493</td>\n",
       "      <td>-0.068330</td>\n",
       "      <td>-0.092204</td>\n",
       "    </tr>\n",
       "    <tr>\n",
       "      <th>2</th>\n",
       "      <td>0.085299</td>\n",
       "      <td>0.050680</td>\n",
       "      <td>0.044451</td>\n",
       "      <td>-0.005671</td>\n",
       "      <td>-0.045599</td>\n",
       "      <td>-0.034194</td>\n",
       "      <td>-0.032356</td>\n",
       "      <td>-0.002592</td>\n",
       "      <td>0.002864</td>\n",
       "      <td>-0.025930</td>\n",
       "    </tr>\n",
       "    <tr>\n",
       "      <th>3</th>\n",
       "      <td>-0.089063</td>\n",
       "      <td>-0.044642</td>\n",
       "      <td>-0.011595</td>\n",
       "      <td>-0.036656</td>\n",
       "      <td>0.012191</td>\n",
       "      <td>0.024991</td>\n",
       "      <td>-0.036038</td>\n",
       "      <td>0.034309</td>\n",
       "      <td>0.022692</td>\n",
       "      <td>-0.009362</td>\n",
       "    </tr>\n",
       "    <tr>\n",
       "      <th>4</th>\n",
       "      <td>0.005383</td>\n",
       "      <td>-0.044642</td>\n",
       "      <td>-0.036385</td>\n",
       "      <td>0.021872</td>\n",
       "      <td>0.003935</td>\n",
       "      <td>0.015596</td>\n",
       "      <td>0.008142</td>\n",
       "      <td>-0.002592</td>\n",
       "      <td>-0.031991</td>\n",
       "      <td>-0.046641</td>\n",
       "    </tr>\n",
       "  </tbody>\n",
       "</table>\n",
       "</div>"
      ],
      "text/plain": [
       "        age       sex       bmi        bp        s1        s2        s3  \\\n",
       "0  0.038076  0.050680  0.061696  0.021872 -0.044223 -0.034821 -0.043401   \n",
       "1 -0.001882 -0.044642 -0.051474 -0.026328 -0.008449 -0.019163  0.074412   \n",
       "2  0.085299  0.050680  0.044451 -0.005671 -0.045599 -0.034194 -0.032356   \n",
       "3 -0.089063 -0.044642 -0.011595 -0.036656  0.012191  0.024991 -0.036038   \n",
       "4  0.005383 -0.044642 -0.036385  0.021872  0.003935  0.015596  0.008142   \n",
       "\n",
       "         s4        s5        s6  \n",
       "0 -0.002592  0.019908 -0.017646  \n",
       "1 -0.039493 -0.068330 -0.092204  \n",
       "2 -0.002592  0.002864 -0.025930  \n",
       "3  0.034309  0.022692 -0.009362  \n",
       "4 -0.002592 -0.031991 -0.046641  "
      ]
     },
     "execution_count": 34,
     "metadata": {},
     "output_type": "execute_result"
    }
   ],
   "source": [
    "diabetes_df = pd.DataFrame(diabetes.data, columns = diabetes.feature_names)\n",
    "diabetes_df.head()"
   ]
  },
  {
   "cell_type": "code",
   "execution_count": 35,
   "id": "542b52b4",
   "metadata": {},
   "outputs": [
    {
     "data": {
      "text/plain": [
       "dict_keys(['data', 'target', 'frame', 'DESCR', 'feature_names', 'data_filename', 'target_filename'])"
      ]
     },
     "execution_count": 35,
     "metadata": {},
     "output_type": "execute_result"
    }
   ],
   "source": [
    "diabetes.keys()"
   ]
  },
  {
   "cell_type": "code",
   "execution_count": 36,
   "id": "045ae7c9",
   "metadata": {},
   "outputs": [
    {
     "data": {
      "text/plain": [
       "array([151.,  75., 141., 206., 135.,  97., 138.,  63., 110., 310., 101.,\n",
       "        69., 179., 185., 118., 171., 166., 144.,  97., 168.,  68.,  49.,\n",
       "        68., 245., 184., 202., 137.,  85., 131., 283., 129.,  59., 341.,\n",
       "        87.,  65., 102., 265., 276., 252.,  90., 100.,  55.,  61.,  92.,\n",
       "       259.,  53., 190., 142.,  75., 142., 155., 225.,  59., 104., 182.,\n",
       "       128.,  52.,  37., 170., 170.,  61., 144.,  52., 128.,  71., 163.,\n",
       "       150.,  97., 160., 178.,  48., 270., 202., 111.,  85.,  42., 170.,\n",
       "       200., 252., 113., 143.,  51.,  52., 210.,  65., 141.,  55., 134.,\n",
       "        42., 111.,  98., 164.,  48.,  96.,  90., 162., 150., 279.,  92.,\n",
       "        83., 128., 102., 302., 198.,  95.,  53., 134., 144., 232.,  81.,\n",
       "       104.,  59., 246., 297., 258., 229., 275., 281., 179., 200., 200.,\n",
       "       173., 180.,  84., 121., 161.,  99., 109., 115., 268., 274., 158.,\n",
       "       107.,  83., 103., 272.,  85., 280., 336., 281., 118., 317., 235.,\n",
       "        60., 174., 259., 178., 128.,  96., 126., 288.,  88., 292.,  71.,\n",
       "       197., 186.,  25.,  84.,  96., 195.,  53., 217., 172., 131., 214.,\n",
       "        59.,  70., 220., 268., 152.,  47.,  74., 295., 101., 151., 127.,\n",
       "       237., 225.,  81., 151., 107.,  64., 138., 185., 265., 101., 137.,\n",
       "       143., 141.,  79., 292., 178.,  91., 116.,  86., 122.,  72., 129.,\n",
       "       142.,  90., 158.,  39., 196., 222., 277.,  99., 196., 202., 155.,\n",
       "        77., 191.,  70.,  73.,  49.,  65., 263., 248., 296., 214., 185.,\n",
       "        78.,  93., 252., 150.,  77., 208.,  77., 108., 160.,  53., 220.,\n",
       "       154., 259.,  90., 246., 124.,  67.,  72., 257., 262., 275., 177.,\n",
       "        71.,  47., 187., 125.,  78.,  51., 258., 215., 303., 243.,  91.,\n",
       "       150., 310., 153., 346.,  63.,  89.,  50.,  39., 103., 308., 116.,\n",
       "       145.,  74.,  45., 115., 264.,  87., 202., 127., 182., 241.,  66.,\n",
       "        94., 283.,  64., 102., 200., 265.,  94., 230., 181., 156., 233.,\n",
       "        60., 219.,  80.,  68., 332., 248.,  84., 200.,  55.,  85.,  89.,\n",
       "        31., 129.,  83., 275.,  65., 198., 236., 253., 124.,  44., 172.,\n",
       "       114., 142., 109., 180., 144., 163., 147.,  97., 220., 190., 109.,\n",
       "       191., 122., 230., 242., 248., 249., 192., 131., 237.,  78., 135.,\n",
       "       244., 199., 270., 164.,  72.,  96., 306.,  91., 214.,  95., 216.,\n",
       "       263., 178., 113., 200., 139., 139.,  88., 148.,  88., 243.,  71.,\n",
       "        77., 109., 272.,  60.,  54., 221.,  90., 311., 281., 182., 321.,\n",
       "        58., 262., 206., 233., 242., 123., 167.,  63., 197.,  71., 168.,\n",
       "       140., 217., 121., 235., 245.,  40.,  52., 104., 132.,  88.,  69.,\n",
       "       219.,  72., 201., 110.,  51., 277.,  63., 118.,  69., 273., 258.,\n",
       "        43., 198., 242., 232., 175.,  93., 168., 275., 293., 281.,  72.,\n",
       "       140., 189., 181., 209., 136., 261., 113., 131., 174., 257.,  55.,\n",
       "        84.,  42., 146., 212., 233.,  91., 111., 152., 120.,  67., 310.,\n",
       "        94., 183.,  66., 173.,  72.,  49.,  64.,  48., 178., 104., 132.,\n",
       "       220.,  57.])"
      ]
     },
     "execution_count": 36,
     "metadata": {},
     "output_type": "execute_result"
    }
   ],
   "source": [
    "diabetes.target"
   ]
  },
  {
   "cell_type": "code",
   "execution_count": 37,
   "id": "33b04471",
   "metadata": {},
   "outputs": [
    {
     "data": {
      "text/html": [
       "<div>\n",
       "<style scoped>\n",
       "    .dataframe tbody tr th:only-of-type {\n",
       "        vertical-align: middle;\n",
       "    }\n",
       "\n",
       "    .dataframe tbody tr th {\n",
       "        vertical-align: top;\n",
       "    }\n",
       "\n",
       "    .dataframe thead th {\n",
       "        text-align: right;\n",
       "    }\n",
       "</style>\n",
       "<table border=\"1\" class=\"dataframe\">\n",
       "  <thead>\n",
       "    <tr style=\"text-align: right;\">\n",
       "      <th></th>\n",
       "      <th>age</th>\n",
       "      <th>sex</th>\n",
       "      <th>bmi</th>\n",
       "      <th>bp</th>\n",
       "      <th>s1</th>\n",
       "      <th>s2</th>\n",
       "      <th>s3</th>\n",
       "      <th>s4</th>\n",
       "      <th>s5</th>\n",
       "      <th>s6</th>\n",
       "      <th>Target</th>\n",
       "    </tr>\n",
       "  </thead>\n",
       "  <tbody>\n",
       "    <tr>\n",
       "      <th>0</th>\n",
       "      <td>0.038076</td>\n",
       "      <td>0.050680</td>\n",
       "      <td>0.061696</td>\n",
       "      <td>0.021872</td>\n",
       "      <td>-0.044223</td>\n",
       "      <td>-0.034821</td>\n",
       "      <td>-0.043401</td>\n",
       "      <td>-0.002592</td>\n",
       "      <td>0.019908</td>\n",
       "      <td>-0.017646</td>\n",
       "      <td>151.0</td>\n",
       "    </tr>\n",
       "    <tr>\n",
       "      <th>1</th>\n",
       "      <td>-0.001882</td>\n",
       "      <td>-0.044642</td>\n",
       "      <td>-0.051474</td>\n",
       "      <td>-0.026328</td>\n",
       "      <td>-0.008449</td>\n",
       "      <td>-0.019163</td>\n",
       "      <td>0.074412</td>\n",
       "      <td>-0.039493</td>\n",
       "      <td>-0.068330</td>\n",
       "      <td>-0.092204</td>\n",
       "      <td>75.0</td>\n",
       "    </tr>\n",
       "    <tr>\n",
       "      <th>2</th>\n",
       "      <td>0.085299</td>\n",
       "      <td>0.050680</td>\n",
       "      <td>0.044451</td>\n",
       "      <td>-0.005671</td>\n",
       "      <td>-0.045599</td>\n",
       "      <td>-0.034194</td>\n",
       "      <td>-0.032356</td>\n",
       "      <td>-0.002592</td>\n",
       "      <td>0.002864</td>\n",
       "      <td>-0.025930</td>\n",
       "      <td>141.0</td>\n",
       "    </tr>\n",
       "    <tr>\n",
       "      <th>3</th>\n",
       "      <td>-0.089063</td>\n",
       "      <td>-0.044642</td>\n",
       "      <td>-0.011595</td>\n",
       "      <td>-0.036656</td>\n",
       "      <td>0.012191</td>\n",
       "      <td>0.024991</td>\n",
       "      <td>-0.036038</td>\n",
       "      <td>0.034309</td>\n",
       "      <td>0.022692</td>\n",
       "      <td>-0.009362</td>\n",
       "      <td>206.0</td>\n",
       "    </tr>\n",
       "    <tr>\n",
       "      <th>4</th>\n",
       "      <td>0.005383</td>\n",
       "      <td>-0.044642</td>\n",
       "      <td>-0.036385</td>\n",
       "      <td>0.021872</td>\n",
       "      <td>0.003935</td>\n",
       "      <td>0.015596</td>\n",
       "      <td>0.008142</td>\n",
       "      <td>-0.002592</td>\n",
       "      <td>-0.031991</td>\n",
       "      <td>-0.046641</td>\n",
       "      <td>135.0</td>\n",
       "    </tr>\n",
       "  </tbody>\n",
       "</table>\n",
       "</div>"
      ],
      "text/plain": [
       "        age       sex       bmi        bp        s1        s2        s3  \\\n",
       "0  0.038076  0.050680  0.061696  0.021872 -0.044223 -0.034821 -0.043401   \n",
       "1 -0.001882 -0.044642 -0.051474 -0.026328 -0.008449 -0.019163  0.074412   \n",
       "2  0.085299  0.050680  0.044451 -0.005671 -0.045599 -0.034194 -0.032356   \n",
       "3 -0.089063 -0.044642 -0.011595 -0.036656  0.012191  0.024991 -0.036038   \n",
       "4  0.005383 -0.044642 -0.036385  0.021872  0.003935  0.015596  0.008142   \n",
       "\n",
       "         s4        s5        s6  Target  \n",
       "0 -0.002592  0.019908 -0.017646   151.0  \n",
       "1 -0.039493 -0.068330 -0.092204    75.0  \n",
       "2 -0.002592  0.002864 -0.025930   141.0  \n",
       "3  0.034309  0.022692 -0.009362   206.0  \n",
       "4 -0.002592 -0.031991 -0.046641   135.0  "
      ]
     },
     "execution_count": 37,
     "metadata": {},
     "output_type": "execute_result"
    }
   ],
   "source": [
    "diabetes_df[\"Target\"] = diabetes.target\n",
    "diabetes_df.head()"
   ]
  },
  {
   "cell_type": "code",
   "execution_count": 38,
   "id": "84631c40",
   "metadata": {},
   "outputs": [
    {
     "data": {
      "text/html": [
       "<div>\n",
       "<style scoped>\n",
       "    .dataframe tbody tr th:only-of-type {\n",
       "        vertical-align: middle;\n",
       "    }\n",
       "\n",
       "    .dataframe tbody tr th {\n",
       "        vertical-align: top;\n",
       "    }\n",
       "\n",
       "    .dataframe thead th {\n",
       "        text-align: right;\n",
       "    }\n",
       "</style>\n",
       "<table border=\"1\" class=\"dataframe\">\n",
       "  <thead>\n",
       "    <tr style=\"text-align: right;\">\n",
       "      <th></th>\n",
       "      <th>age</th>\n",
       "      <th>sex</th>\n",
       "      <th>bmi</th>\n",
       "      <th>bp</th>\n",
       "      <th>s1</th>\n",
       "      <th>s2</th>\n",
       "      <th>s3</th>\n",
       "      <th>s4</th>\n",
       "      <th>s5</th>\n",
       "      <th>s6</th>\n",
       "    </tr>\n",
       "  </thead>\n",
       "  <tbody>\n",
       "    <tr>\n",
       "      <th>0</th>\n",
       "      <td>0.038076</td>\n",
       "      <td>0.050680</td>\n",
       "      <td>0.061696</td>\n",
       "      <td>0.021872</td>\n",
       "      <td>-0.044223</td>\n",
       "      <td>-0.034821</td>\n",
       "      <td>-0.043401</td>\n",
       "      <td>-0.002592</td>\n",
       "      <td>0.019908</td>\n",
       "      <td>-0.017646</td>\n",
       "    </tr>\n",
       "    <tr>\n",
       "      <th>1</th>\n",
       "      <td>-0.001882</td>\n",
       "      <td>-0.044642</td>\n",
       "      <td>-0.051474</td>\n",
       "      <td>-0.026328</td>\n",
       "      <td>-0.008449</td>\n",
       "      <td>-0.019163</td>\n",
       "      <td>0.074412</td>\n",
       "      <td>-0.039493</td>\n",
       "      <td>-0.068330</td>\n",
       "      <td>-0.092204</td>\n",
       "    </tr>\n",
       "    <tr>\n",
       "      <th>2</th>\n",
       "      <td>0.085299</td>\n",
       "      <td>0.050680</td>\n",
       "      <td>0.044451</td>\n",
       "      <td>-0.005671</td>\n",
       "      <td>-0.045599</td>\n",
       "      <td>-0.034194</td>\n",
       "      <td>-0.032356</td>\n",
       "      <td>-0.002592</td>\n",
       "      <td>0.002864</td>\n",
       "      <td>-0.025930</td>\n",
       "    </tr>\n",
       "    <tr>\n",
       "      <th>3</th>\n",
       "      <td>-0.089063</td>\n",
       "      <td>-0.044642</td>\n",
       "      <td>-0.011595</td>\n",
       "      <td>-0.036656</td>\n",
       "      <td>0.012191</td>\n",
       "      <td>0.024991</td>\n",
       "      <td>-0.036038</td>\n",
       "      <td>0.034309</td>\n",
       "      <td>0.022692</td>\n",
       "      <td>-0.009362</td>\n",
       "    </tr>\n",
       "    <tr>\n",
       "      <th>4</th>\n",
       "      <td>0.005383</td>\n",
       "      <td>-0.044642</td>\n",
       "      <td>-0.036385</td>\n",
       "      <td>0.021872</td>\n",
       "      <td>0.003935</td>\n",
       "      <td>0.015596</td>\n",
       "      <td>0.008142</td>\n",
       "      <td>-0.002592</td>\n",
       "      <td>-0.031991</td>\n",
       "      <td>-0.046641</td>\n",
       "    </tr>\n",
       "  </tbody>\n",
       "</table>\n",
       "</div>"
      ],
      "text/plain": [
       "        age       sex       bmi        bp        s1        s2        s3  \\\n",
       "0  0.038076  0.050680  0.061696  0.021872 -0.044223 -0.034821 -0.043401   \n",
       "1 -0.001882 -0.044642 -0.051474 -0.026328 -0.008449 -0.019163  0.074412   \n",
       "2  0.085299  0.050680  0.044451 -0.005671 -0.045599 -0.034194 -0.032356   \n",
       "3 -0.089063 -0.044642 -0.011595 -0.036656  0.012191  0.024991 -0.036038   \n",
       "4  0.005383 -0.044642 -0.036385  0.021872  0.003935  0.015596  0.008142   \n",
       "\n",
       "         s4        s5        s6  \n",
       "0 -0.002592  0.019908 -0.017646  \n",
       "1 -0.039493 -0.068330 -0.092204  \n",
       "2 -0.002592  0.002864 -0.025930  \n",
       "3  0.034309  0.022692 -0.009362  \n",
       "4 -0.002592 -0.031991 -0.046641  "
      ]
     },
     "execution_count": 38,
     "metadata": {},
     "output_type": "execute_result"
    }
   ],
   "source": [
    "X = diabetes_df[diabetes_df.columns[:-1]]\n",
    "X.head()"
   ]
  },
  {
   "cell_type": "code",
   "execution_count": 39,
   "id": "5dd5d792",
   "metadata": {},
   "outputs": [
    {
     "data": {
      "text/plain": [
       "0    151.0\n",
       "1     75.0\n",
       "2    141.0\n",
       "3    206.0\n",
       "4    135.0\n",
       "Name: Target, dtype: float64"
      ]
     },
     "execution_count": 39,
     "metadata": {},
     "output_type": "execute_result"
    }
   ],
   "source": [
    "y = diabetes_df[\"Target\"]\n",
    "y.head()"
   ]
  },
  {
   "cell_type": "code",
   "execution_count": 40,
   "id": "c1ce2743",
   "metadata": {},
   "outputs": [
    {
     "data": {
      "text/plain": [
       "(442, 11)"
      ]
     },
     "execution_count": 40,
     "metadata": {},
     "output_type": "execute_result"
    }
   ],
   "source": [
    "diabetes_df.shape"
   ]
  },
  {
   "cell_type": "code",
   "execution_count": 41,
   "id": "e35f1d6c",
   "metadata": {},
   "outputs": [
    {
     "data": {
      "text/plain": [
       "age       0\n",
       "sex       0\n",
       "bmi       0\n",
       "bp        0\n",
       "s1        0\n",
       "s2        0\n",
       "s3        0\n",
       "s4        0\n",
       "s5        0\n",
       "s6        0\n",
       "Target    0\n",
       "dtype: int64"
      ]
     },
     "execution_count": 41,
     "metadata": {},
     "output_type": "execute_result"
    }
   ],
   "source": [
    "diabetes_df.isnull().sum()"
   ]
  },
  {
   "cell_type": "code",
   "execution_count": 42,
   "id": "c782e298",
   "metadata": {},
   "outputs": [
    {
     "name": "stdout",
     "output_type": "stream",
     "text": [
      "<class 'pandas.core.frame.DataFrame'>\n",
      "RangeIndex: 442 entries, 0 to 441\n",
      "Data columns (total 11 columns):\n",
      " #   Column  Non-Null Count  Dtype  \n",
      "---  ------  --------------  -----  \n",
      " 0   age     442 non-null    float64\n",
      " 1   sex     442 non-null    float64\n",
      " 2   bmi     442 non-null    float64\n",
      " 3   bp      442 non-null    float64\n",
      " 4   s1      442 non-null    float64\n",
      " 5   s2      442 non-null    float64\n",
      " 6   s3      442 non-null    float64\n",
      " 7   s4      442 non-null    float64\n",
      " 8   s5      442 non-null    float64\n",
      " 9   s6      442 non-null    float64\n",
      " 10  Target  442 non-null    float64\n",
      "dtypes: float64(11)\n",
      "memory usage: 38.1 KB\n"
     ]
    }
   ],
   "source": [
    "diabetes_df.info()"
   ]
  },
  {
   "cell_type": "code",
   "execution_count": 43,
   "id": "f2f687a4",
   "metadata": {},
   "outputs": [],
   "source": [
    "#Seperating total data into training part and testing par\n",
    "\n",
    "from sklearn.model_selection import train_test_split\n",
    "\n",
    "# it returns 4 outputs  : x_train, x_test, y_train, y_test\n",
    "# it takes 4 parameters  : input, target, test_size, random_state"
   ]
  },
  {
   "cell_type": "code",
   "execution_count": 44,
   "id": "3a36304f",
   "metadata": {},
   "outputs": [],
   "source": [
    "X_train,X_test, y_train,y_test = train_test_split(X, y, test_size = 0.2, random_state = 1)"
   ]
  },
  {
   "cell_type": "code",
   "execution_count": 45,
   "id": "9dc171af",
   "metadata": {},
   "outputs": [
    {
     "data": {
      "text/plain": [
       "(353, 10)"
      ]
     },
     "execution_count": 45,
     "metadata": {},
     "output_type": "execute_result"
    }
   ],
   "source": [
    "X_train.shape"
   ]
  },
  {
   "cell_type": "code",
   "execution_count": 46,
   "id": "f66ebfd5",
   "metadata": {},
   "outputs": [
    {
     "data": {
      "text/plain": [
       "(353,)"
      ]
     },
     "execution_count": 46,
     "metadata": {},
     "output_type": "execute_result"
    }
   ],
   "source": [
    "y_train.shape"
   ]
  },
  {
   "cell_type": "code",
   "execution_count": 47,
   "id": "a41de4de",
   "metadata": {},
   "outputs": [
    {
     "data": {
      "text/plain": [
       "(89, 10)"
      ]
     },
     "execution_count": 47,
     "metadata": {},
     "output_type": "execute_result"
    }
   ],
   "source": [
    "X_test.shape"
   ]
  },
  {
   "cell_type": "code",
   "execution_count": 48,
   "id": "a72f547e",
   "metadata": {},
   "outputs": [],
   "source": [
    "model = LinearRegression()"
   ]
  },
  {
   "cell_type": "code",
   "execution_count": 49,
   "id": "3dc9f55b",
   "metadata": {},
   "outputs": [
    {
     "data": {
      "text/plain": [
       "LinearRegression()"
      ]
     },
     "execution_count": 49,
     "metadata": {},
     "output_type": "execute_result"
    }
   ],
   "source": [
    "model.fit(X_train,y_train)"
   ]
  },
  {
   "cell_type": "code",
   "execution_count": 50,
   "id": "1d84e32c",
   "metadata": {},
   "outputs": [
    {
     "data": {
      "text/plain": [
       "array([119.13799987, 110.77391294, 185.03753525,  68.01004306,\n",
       "       171.05567482, 190.41947176, 218.59025339, 119.63203852,\n",
       "       157.27055681, 129.49872542, 214.15084822, 202.92431405,\n",
       "        88.4181873 ,  71.96126603, 236.88942627, 206.09343437,\n",
       "       175.60327536, 101.96534184, 114.11351232, 169.04365354,\n",
       "       187.71441733,  85.64602789, 144.13474562, 107.06624664,\n",
       "        94.04637611, 211.79767975,  90.73461365, 176.22790243,\n",
       "       122.6261966 , 180.92749416, 157.11699049, 138.04487003,\n",
       "       192.36254696,  94.45416136, 166.30827404, 189.43543051,\n",
       "       110.67405987, 247.68070805, 172.47439934, 188.09285247,\n",
       "       160.08467765, 176.65356546, 115.81421227, 120.23211066,\n",
       "       141.53507307, 203.40938551, 152.4289922 , 144.0956641 ,\n",
       "       190.19046181, 191.49811884,  59.80970305, 159.75512015,\n",
       "       102.14584494, 147.89327376, 186.10225504, 121.4055051 ,\n",
       "       159.12490592,  83.44071751,  55.57595531,  79.08566367,\n",
       "        99.45849105, 199.89400313, 168.54820049, 109.16184208,\n",
       "       276.4179956 ,  76.50778446,  74.13953889, 167.98592734,\n",
       "       198.22757357,  58.77982477, 163.54802595,  87.43526384,\n",
       "        89.57149429, 135.7951998 , 158.77692927,  94.27477185,\n",
       "       108.04813932,  85.56521222, 223.3566147 , 176.54116092,\n",
       "       100.00117216, 110.78295946, 149.69056181, 152.38288898,\n",
       "       113.35118111, 111.44777388,  98.35784136,  73.10486312,\n",
       "       270.50057397])"
      ]
     },
     "execution_count": 50,
     "metadata": {},
     "output_type": "execute_result"
    }
   ],
   "source": [
    "y_pred  = model.predict(X_test)\n",
    "y_pred"
   ]
  },
  {
   "cell_type": "code",
   "execution_count": 51,
   "id": "06bb78c4",
   "metadata": {},
   "outputs": [
    {
     "name": "stdout",
     "output_type": "stream",
     "text": [
      "Accuracy of actual and predicted is  43.843604017332694\n"
     ]
    }
   ],
   "source": [
    "print(\"Accuracy of actual and predicted is \",r2_score(y_test,y_pred) *100)"
   ]
  },
  {
   "cell_type": "code",
   "execution_count": 52,
   "id": "03660700",
   "metadata": {},
   "outputs": [],
   "source": [
    "l  = list(X_train.iloc[250])"
   ]
  },
  {
   "cell_type": "code",
   "execution_count": 53,
   "id": "1c1976ff",
   "metadata": {},
   "outputs": [
    {
     "data": {
      "text/plain": [
       "59.0"
      ]
     },
     "execution_count": 53,
     "metadata": {},
     "output_type": "execute_result"
    }
   ],
   "source": [
    "y_train.iloc[250]  # actual output"
   ]
  },
  {
   "cell_type": "code",
   "execution_count": 54,
   "id": "06459f8a",
   "metadata": {},
   "outputs": [
    {
     "data": {
      "text/plain": [
       "array([136.17669634])"
      ]
     },
     "execution_count": 54,
     "metadata": {},
     "output_type": "execute_result"
    }
   ],
   "source": [
    "model.predict([l]) # model predicted output"
   ]
  }
 ],
 "metadata": {
  "kernelspec": {
   "display_name": "Python 3",
   "language": "python",
   "name": "python3"
  },
  "language_info": {
   "codemirror_mode": {
    "name": "ipython",
    "version": 3
   },
   "file_extension": ".py",
   "mimetype": "text/x-python",
   "name": "python",
   "nbconvert_exporter": "python",
   "pygments_lexer": "ipython3",
   "version": "3.8.8"
  }
 },
 "nbformat": 4,
 "nbformat_minor": 5
}
