{
 "cells": [
  {
   "cell_type": "markdown",
   "id": "8f89cdf5",
   "metadata": {},
   "source": [
    "## Task 1:\n"
   ]
  },
  {
   "cell_type": "code",
   "execution_count": 6,
   "id": "3a1910cb",
   "metadata": {},
   "outputs": [
    {
     "name": "stdout",
     "output_type": "stream",
     "text": [
      "Enter a string: Durga\n",
      "r\n"
     ]
    }
   ],
   "source": [
    "a = input(\"Enter a string: \")\n",
    "if len(a)%2!=0:\n",
    "    print(a[len(a)//2])\n",
    "else:\n",
    "    print(a[(len(a)//2)-1],a[len(a)//2])\n",
    "    "
   ]
  },
  {
   "cell_type": "code",
   "execution_count": 15,
   "id": "d92b29df",
   "metadata": {},
   "outputs": [
    {
     "name": "stdout",
     "output_type": "stream",
     "text": [
      "Enter a string: Sonali\n",
      "n a\n"
     ]
    }
   ],
   "source": [
    "a = input(\"Enter a string: \")\n",
    "if len(a)%2!=0:\n",
    "    print(a[len(a)//2])\n",
    "else:\n",
    "    print(a[(len(a)//2)-1],a[len(a)//2])"
   ]
  }
 ],
 "metadata": {
  "kernelspec": {
   "display_name": "Python 3",
   "language": "python",
   "name": "python3"
  },
  "language_info": {
   "codemirror_mode": {
    "name": "ipython",
    "version": 3
   },
   "file_extension": ".py",
   "mimetype": "text/x-python",
   "name": "python",
   "nbconvert_exporter": "python",
   "pygments_lexer": "ipython3",
   "version": "3.8.8"
  }
 },
 "nbformat": 4,
 "nbformat_minor": 5
}
