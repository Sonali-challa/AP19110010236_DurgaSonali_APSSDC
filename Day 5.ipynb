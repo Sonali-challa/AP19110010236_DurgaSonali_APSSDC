{
 "cells": [
  {
   "cell_type": "markdown",
   "id": "252449f0",
   "metadata": {},
   "source": [
    "# Day 5"
   ]
  },
  {
   "cell_type": "code",
   "execution_count": 1,
   "id": "2bb0d42c",
   "metadata": {},
   "outputs": [
    {
     "name": "stdout",
     "output_type": "stream",
     "text": [
      "Enter the list: Durgasonali\n",
      "Enter the list: sonu\n",
      "True\n"
     ]
    }
   ],
   "source": [
    "l1 = set(input(\"Enter the list: \"))\n",
    "l2 = set(input(\"Enter the list: \"))\n",
    "if len(l1.intersection(l2)) > 0:\n",
    "    print(\"True\")\n",
    "else:\n",
    "    print(\"False\")"
   ]
  },
  {
   "cell_type": "code",
   "execution_count": 2,
   "id": "074db711",
   "metadata": {},
   "outputs": [
    {
     "name": "stdout",
     "output_type": "stream",
     "text": [
      "Enter the list: Apple\n",
      "Enter the list: Gova\n",
      "False\n"
     ]
    }
   ],
   "source": [
    "list1 = set(input(\"Enter the list: \"))\n",
    "list2 = set(input(\"Enter the list: \"))\n",
    "if len(list1.intersection(list2)) > 0:\n",
    "    print(\"True\")\n",
    "else:\n",
    "    print(\"False\")"
   ]
  }
 ],
 "metadata": {
  "kernelspec": {
   "display_name": "Python 3",
   "language": "python",
   "name": "python3"
  },
  "language_info": {
   "codemirror_mode": {
    "name": "ipython",
    "version": 3
   },
   "file_extension": ".py",
   "mimetype": "text/x-python",
   "name": "python",
   "nbconvert_exporter": "python",
   "pygments_lexer": "ipython3",
   "version": "3.8.8"
  }
 },
 "nbformat": 4,
 "nbformat_minor": 5
}
