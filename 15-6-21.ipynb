{
 "cells": [
  {
   "cell_type": "markdown",
   "id": "16971ed9",
   "metadata": {},
   "source": [
    "# Task:\n",
    "- Create a function for finding the leap years within the give range\n",
    "- creat a function for getting the armstrong number within the given range\n",
    "- Create a function for getting the prime number within the range\n",
    "- Create the function for finding the count fo elements in a string. \"SRM University\""
   ]
  },
  {
   "cell_type": "code",
   "execution_count": 1,
   "id": "a681e3e4",
   "metadata": {},
   "outputs": [
    {
     "name": "stdout",
     "output_type": "stream",
     "text": [
      "Enter the starting year: 2001\n",
      "Enter the ending year: 2021\n",
      "Leap years between the range 2001 to 2021 are as follows: \n",
      "2004\n",
      "2008\n",
      "2012\n",
      "2016\n",
      "2020\n"
     ]
    }
   ],
   "source": [
    "# create a function for finding the leap years within the give range\n",
    "def leap(n):\n",
    "    if (n%4==0 and n%100!=0 or n%400==0):\n",
    "        return True\n",
    "    else:\n",
    "        return False\n",
    "start = int(input(\"Enter the starting year: \"))\n",
    "end = int(input(\"Enter the ending year: \"))\n",
    "print(\"Leap years between the range\", start, \"to\", end, \"are as follows: \")\n",
    "for i in range(start, end):\n",
    "    if leap(i) == True:\n",
    "        print(i)"
   ]
  },
  {
   "cell_type": "code",
   "execution_count": 2,
   "id": "34ed7ba4",
   "metadata": {},
   "outputs": [
    {
     "name": "stdout",
     "output_type": "stream",
     "text": [
      "Enter the start number: 5\n",
      "Enter the final number: 10\n",
      "The Armstrong numbers from 5 to 10 are as follows: \n",
      "5\n",
      "6\n",
      "7\n",
      "8\n",
      "9\n"
     ]
    }
   ],
   "source": [
    "# creat a function for getting the armstrong number within the given range\n",
    "def armstrong(a, b):\n",
    "    for i in range(a, b+1):\n",
    "        num = i\n",
    "        result = 0\n",
    "        n = len(str(i))\n",
    "        while(i != 0):\n",
    "            digit = i % 10\n",
    "            result = result + digit ** n\n",
    "            i = i//10\n",
    "        if num == result:\n",
    "            print(num)\n",
    "start = int(input(\"Enter the start number: \"))\n",
    "end = int(input(\"Enter the final number: \"))\n",
    "print(\"The Armstrong numbers from\", start, \"to\", end, \"are as follows: \")\n",
    "armstrong(start, end)"
   ]
  }
 ],
 "metadata": {
  "kernelspec": {
   "display_name": "Python 3",
   "language": "python",
   "name": "python3"
  },
  "language_info": {
   "codemirror_mode": {
    "name": "ipython",
    "version": 3
   },
   "file_extension": ".py",
   "mimetype": "text/x-python",
   "name": "python",
   "nbconvert_exporter": "python",
   "pygments_lexer": "ipython3",
   "version": "3.8.8"
  }
 },
 "nbformat": 4,
 "nbformat_minor": 5
}
