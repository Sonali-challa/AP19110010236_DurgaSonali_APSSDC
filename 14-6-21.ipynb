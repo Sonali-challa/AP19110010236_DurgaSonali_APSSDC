{
 "cells": [
  {
   "cell_type": "code",
   "execution_count": 1,
   "id": "d0c3ef3f",
   "metadata": {},
   "outputs": [
    {
     "name": "stdout",
     "output_type": "stream",
     "text": [
      "5841\n",
      "1234\n",
      "8797\n"
     ]
    }
   ],
   "source": [
    "## write a pattern to display 4 digit numbers from list1\n",
    "import re\n",
    "list1 = ['5841', '98765421', '453267', '1234', '675','8797']\n",
    "for i in list1:\n",
    "    if re.findall('^[0-9]{4}$', i):\n",
    "        print(i)"
   ]
  },
  {
   "cell_type": "code",
   "execution_count": 2,
   "id": "1a015439",
   "metadata": {},
   "outputs": [
    {
     "name": "stdout",
     "output_type": "stream",
     "text": [
      "8289812344\n",
      "8500234888\n",
      "9493442134\n"
     ]
    }
   ],
   "source": [
    "# validate a phone number using patterns\n",
    "ph_list=['8289812344', '8500234888', '93847899', '1234544988','9493442134']\n",
    "for i in ph_list:\n",
    "    if re.findall('[7-9]{1}[0-9]{9}$', i):\n",
    "        print(i)"
   ]
  }
 ],
 "metadata": {
  "kernelspec": {
   "display_name": "Python 3",
   "language": "python",
   "name": "python3"
  },
  "language_info": {
   "codemirror_mode": {
    "name": "ipython",
    "version": 3
   },
   "file_extension": ".py",
   "mimetype": "text/x-python",
   "name": "python",
   "nbconvert_exporter": "python",
   "pygments_lexer": "ipython3",
   "version": "3.8.8"
  }
 },
 "nbformat": 4,
 "nbformat_minor": 5
}
