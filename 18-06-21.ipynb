{
 "cells": [
  {
   "cell_type": "code",
   "execution_count": 2,
   "id": "765545aa",
   "metadata": {},
   "outputs": [
    {
     "name": "stdout",
     "output_type": "stream",
     "text": [
      "File handling updated line\n",
      "* build in functions\n",
      "    * open()\n",
      "    * close()\n",
      "* w -- write()---write into the file\n",
      "* r -- read file already created\n",
      "    * read()--reading all line from file\n",
      "    * readline()--reading a single at a time\n",
      "    * readlines()--reading line by line\n",
      "* a -- appends the data ==  write()\n",
      "This is the new Updated word data \n",
      "\n"
     ]
    }
   ],
   "source": [
    "f = open(\"file.txt\", 'r')\n",
    "print(f.read())\n",
    "f.close()"
   ]
  },
  {
   "cell_type": "markdown",
   "id": "d0563dd6",
   "metadata": {},
   "source": [
    "#### Write a program for accessing last five lines from file"
   ]
  },
  {
   "cell_type": "code",
   "execution_count": 4,
   "id": "115dfeca",
   "metadata": {},
   "outputs": [
    {
     "name": "stdout",
     "output_type": "stream",
     "text": [
      "['    * read()--reading all line from file\\n', '    * readline()--reading a single at a time\\n', '    * readlines()--reading line by line\\n', '* a -- appends the data ==  write()\\n', 'This is the new Updated word data \\n']\n"
     ]
    }
   ],
   "source": [
    "f = open(\"file.txt\",'r')\n",
    "lines = f.readlines()\n",
    "last_lines = lines[-5:]\n",
    "print(last_lines)"
   ]
  },
  {
   "cell_type": "markdown",
   "id": "7ae7bbc5",
   "metadata": {},
   "source": [
    "#### Create a function for appending the data into the file."
   ]
  },
  {
   "cell_type": "code",
   "execution_count": 5,
   "id": "cf5c9fe8",
   "metadata": {},
   "outputs": [],
   "source": [
    "def append():\n",
    "    f=open('file.txt', 'a')\n",
    "    f.write(\"This is the new appended data \\n\")\n",
    "    f.close()\n",
    "append()"
   ]
  },
  {
   "cell_type": "code",
   "execution_count": 6,
   "id": "56e362dd",
   "metadata": {},
   "outputs": [
    {
     "name": "stdout",
     "output_type": "stream",
     "text": [
      "File handling updated line\n",
      "* build in functions\n",
      "    * open()\n",
      "    * close()\n",
      "* w -- write()---write into the file\n",
      "* r -- read file already created\n",
      "    * read()--reading all line from file\n",
      "    * readline()--reading a single at a time\n",
      "    * readlines()--reading line by line\n",
      "* a -- appends the data ==  write()\n",
      "This is the new Updated word data \n",
      "This is the new appended data \n",
      "\n"
     ]
    }
   ],
   "source": [
    "f = open(\"file.txt\", 'r')\n",
    "print(f.read())\n",
    "f.close()"
   ]
  },
  {
   "cell_type": "markdown",
   "id": "ab85b2ba",
   "metadata": {},
   "source": [
    "#### Create a program for updating a word in the file"
   ]
  },
  {
   "cell_type": "code",
   "execution_count": 7,
   "id": "cc69e13a",
   "metadata": {},
   "outputs": [
    {
     "name": "stdout",
     "output_type": "stream",
     "text": [
      "Updated Data: Updated word\n",
      "File handling updated line\n",
      "* build in functions\n",
      "    * open()\n",
      "    * close()\n",
      "* w -- write()---write into the file\n",
      "* r -- read file already created\n",
      "    * read()--reading all line from file\n",
      "    * readline()--reading a single at a time\n",
      "    * readlines()--reading line by line\n",
      "* a -- appends the data ==  write()\n",
      "This is the new Updated word data \n",
      "This is the new Updated word data \n",
      "\n"
     ]
    }
   ],
   "source": [
    "import re\n",
    "with open('file.txt','r+') as f:\n",
    "    text = f.read()\n",
    "    text = re.sub('appended', input(\"Updated Data: \"), text)\n",
    "    f.seek(0)\n",
    "    f.write(text)\n",
    "    f.truncate()\n",
    "f = open('file.txt')\n",
    "print(f.read())"
   ]
  }
 ],
 "metadata": {
  "kernelspec": {
   "display_name": "Python 3",
   "language": "python",
   "name": "python3"
  },
  "language_info": {
   "codemirror_mode": {
    "name": "ipython",
    "version": 3
   },
   "file_extension": ".py",
   "mimetype": "text/x-python",
   "name": "python",
   "nbconvert_exporter": "python",
   "pygments_lexer": "ipython3",
   "version": "3.8.8"
  }
 },
 "nbformat": 4,
 "nbformat_minor": 5
}
